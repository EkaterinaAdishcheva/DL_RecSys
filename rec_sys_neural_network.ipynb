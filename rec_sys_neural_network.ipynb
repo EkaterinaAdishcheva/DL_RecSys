{
  "cells": [
    {
      "cell_type": "code",
      "execution_count": 3,
      "metadata": {
        "id": "Il4OauiM1kEk"
      },
      "outputs": [],
      "source": [
        "import io\n",
        "import os\n",
        "import math\n",
        "import copy\n",
        "import pickle\n",
        "import zipfile\n",
        "from textwrap import wrap\n",
        "from pathlib import Path\n",
        "from itertools import zip_longest\n",
        "from collections import defaultdict\n",
        "from urllib.error import URLError\n",
        "from urllib.request import urlopen\n",
        "\n",
        "import numpy as np\n",
        "import pandas as pd\n",
        "import matplotlib.pyplot as plt\n",
        "from sklearn.model_selection import train_test_split\n",
        "\n",
        "import torch\n",
        "from torch import nn\n",
        "from torch import optim\n",
        "from torch.nn import functional as F\n",
        "from torch.optim.lr_scheduler import _LRScheduler"
      ]
    },
    {
      "cell_type": "code",
      "execution_count": 4,
      "metadata": {
        "colab": {
          "base_uri": "https://localhost:8080/"
        },
        "id": "8y-y8mK21kEm",
        "outputId": "828331bc-a917-482a-ff13-7f1fd7c60a08"
      },
      "outputs": [
        {
          "data": {
            "text/plain": [
              "(6208202, 20)"
            ]
          },
          "execution_count": 4,
          "metadata": {},
          "output_type": "execute_result"
        }
      ],
      "source": [
        "df = pd.read_csv('https://github.com/nkozemaslova/Data_2022/releases/download/data3/SpotifyFeatures.csv')\n",
        "df.head()\n",
        "\n",
        "df2 = pd.read_csv('https://github.com/nkozemaslova/Data_2022/releases/download/data4/spotify_dataset.csv',\n",
        "                  skiprows=1,\n",
        "                  names=['user_id', 'artistname', 'trackname', 'playlistname'],\n",
        "                  on_bad_lines='skip')\n",
        "\n",
        "# Переименовали колонку \"artistname\" во втором датасете на \"artist_name\"\n",
        "df2 = df2.rename(columns={'artistname': 'artist_name'})\n",
        "\n",
        "# Переименовали колнку \"trackname\" во втором датасете на \"track_name\"\n",
        "df2 = df2.rename(columns={'trackname': 'track_name'})\n",
        "\n",
        "#объединенный датасет\n",
        "data = pd.merge(df, df2, on=['artist_name', 'track_name'], how='inner')\n",
        "data.shape"
      ]
    },
    {
      "cell_type": "code",
      "execution_count": 5,
      "metadata": {
        "colab": {
          "base_uri": "https://localhost:8080/"
        },
        "id": "2KbC5ABu1kEo",
        "outputId": "b7b12c90-b316-4781-fc24-e1348b94ead1"
      },
      "outputs": [
        {
          "data": {
            "text/plain": [
              "(2484403, 2)"
            ]
          },
          "execution_count": 5,
          "metadata": {},
          "output_type": "execute_result"
        }
      ],
      "source": [
        "data = data[['user_id', 'track_id']].drop_duplicates()\n",
        "data.shape"
      ]
    },
    {
      "cell_type": "code",
      "execution_count": 6,
      "metadata": {
        "colab": {
          "base_uri": "https://localhost:8080/"
        },
        "id": "HB7GcJPE1kEo",
        "outputId": "b7020ac2-3b63-45e7-c47b-72705d84fff5"
      },
      "outputs": [
        {
          "data": {
            "text/plain": [
              "(64337, 12067)"
            ]
          },
          "execution_count": 6,
          "metadata": {},
          "output_type": "execute_result"
        }
      ],
      "source": [
        "data['track_id'].nunique(), len(data['track_id'].value_counts()[data['track_id'].value_counts().values >= 50])"
      ]
    },
    {
      "cell_type": "code",
      "execution_count": 7,
      "metadata": {
        "colab": {
          "base_uri": "https://localhost:8080/"
        },
        "id": "ctSzIWH61kEo",
        "outputId": "064bc173-bfc2-407a-b994-b8a87e3d532e"
      },
      "outputs": [
        {
          "data": {
            "text/plain": [
              "(15095, 11523)"
            ]
          },
          "execution_count": 7,
          "metadata": {},
          "output_type": "execute_result"
        }
      ],
      "source": [
        "data['user_id'].nunique(), len(data['user_id'].value_counts()[data['user_id'].value_counts().values >= 25])"
      ]
    },
    {
      "cell_type": "code",
      "execution_count": 8,
      "metadata": {
        "colab": {
          "base_uri": "https://localhost:8080/"
        },
        "id": "ILm2cQVv1kEo",
        "outputId": "b96c5cf7-6323-4cde-c8f8-2da787a6d486"
      },
      "outputs": [
        {
          "name": "stdout",
          "output_type": "stream",
          "text": [
            "(2484403, 2)\n",
            "(1883856, 2)\n"
          ]
        }
      ],
      "source": [
        "print(data.shape)\n",
        "data = data[data['track_id'].isin(data['track_id'].value_counts()[data['track_id'].value_counts().values >= 50].index)]\n",
        "data = data[data['user_id'].isin(data['user_id'].value_counts()[data['user_id'].value_counts().values >= 25].index)]\n",
        "print(data.shape)"
      ]
    },
    {
      "cell_type": "code",
      "execution_count": 9,
      "metadata": {
        "colab": {
          "base_uri": "https://localhost:8080/"
        },
        "id": "1UPVuFBv1kEp",
        "outputId": "902e2f4c-96b3-46b8-f33b-3011e39d1fdf"
      },
      "outputs": [
        {
          "data": {
            "text/plain": [
              "(921219, 2)"
            ]
          },
          "execution_count": 9,
          "metadata": {},
          "output_type": "execute_result"
        }
      ],
      "source": [
        "selected_users = pd.DataFrame(data['user_id'].unique()).sample(frac=0.5)[0]\n",
        "data = data[data['user_id'].isin(selected_users)]\n",
        "data.shape"
      ]
    },
    {
      "cell_type": "code",
      "execution_count": 10,
      "metadata": {
        "colab": {
          "base_uri": "https://localhost:8080/",
          "height": 206
        },
        "id": "tdteojqG1kEp",
        "outputId": "6fa37ac3-6793-43a2-d33a-43d2ad5cca77"
      },
      "outputs": [
        {
          "data": {
            "text/html": [
              "\n",
              "  <div id=\"df-ebddc193-4597-467c-8e72-b35cf46e5fc1\">\n",
              "    <div class=\"colab-df-container\">\n",
              "      <div>\n",
              "<style scoped>\n",
              "    .dataframe tbody tr th:only-of-type {\n",
              "        vertical-align: middle;\n",
              "    }\n",
              "\n",
              "    .dataframe tbody tr th {\n",
              "        vertical-align: top;\n",
              "    }\n",
              "\n",
              "    .dataframe thead th {\n",
              "        text-align: right;\n",
              "    }\n",
              "</style>\n",
              "<table border=\"1\" class=\"dataframe\">\n",
              "  <thead>\n",
              "    <tr style=\"text-align: right;\">\n",
              "      <th></th>\n",
              "      <th>user_id</th>\n",
              "      <th>track_id</th>\n",
              "      <th>rating</th>\n",
              "    </tr>\n",
              "  </thead>\n",
              "  <tbody>\n",
              "    <tr>\n",
              "      <th>205</th>\n",
              "      <td>6879b04def4c52a0d41e07b4f11136d6</td>\n",
              "      <td>47TqCCnEliDp8NRDyIQoQq</td>\n",
              "      <td>1</td>\n",
              "    </tr>\n",
              "    <tr>\n",
              "      <th>208</th>\n",
              "      <td>c4397b41b68a636a810517e59f6a476b</td>\n",
              "      <td>47TqCCnEliDp8NRDyIQoQq</td>\n",
              "      <td>1</td>\n",
              "    </tr>\n",
              "    <tr>\n",
              "      <th>212</th>\n",
              "      <td>c411684f86b76734deeb3739bb3ba8f7</td>\n",
              "      <td>47TqCCnEliDp8NRDyIQoQq</td>\n",
              "      <td>1</td>\n",
              "    </tr>\n",
              "    <tr>\n",
              "      <th>213</th>\n",
              "      <td>9a5f381ade9c41c783520568ae2fb414</td>\n",
              "      <td>47TqCCnEliDp8NRDyIQoQq</td>\n",
              "      <td>1</td>\n",
              "    </tr>\n",
              "    <tr>\n",
              "      <th>219</th>\n",
              "      <td>e1908ed3528f78587878788ff5522e12</td>\n",
              "      <td>47TqCCnEliDp8NRDyIQoQq</td>\n",
              "      <td>1</td>\n",
              "    </tr>\n",
              "  </tbody>\n",
              "</table>\n",
              "</div>\n",
              "      <button class=\"colab-df-convert\" onclick=\"convertToInteractive('df-ebddc193-4597-467c-8e72-b35cf46e5fc1')\"\n",
              "              title=\"Convert this dataframe to an interactive table.\"\n",
              "              style=\"display:none;\">\n",
              "        \n",
              "  <svg xmlns=\"http://www.w3.org/2000/svg\" height=\"24px\"viewBox=\"0 0 24 24\"\n",
              "       width=\"24px\">\n",
              "    <path d=\"M0 0h24v24H0V0z\" fill=\"none\"/>\n",
              "    <path d=\"M18.56 5.44l.94 2.06.94-2.06 2.06-.94-2.06-.94-.94-2.06-.94 2.06-2.06.94zm-11 1L8.5 8.5l.94-2.06 2.06-.94-2.06-.94L8.5 2.5l-.94 2.06-2.06.94zm10 10l.94 2.06.94-2.06 2.06-.94-2.06-.94-.94-2.06-.94 2.06-2.06.94z\"/><path d=\"M17.41 7.96l-1.37-1.37c-.4-.4-.92-.59-1.43-.59-.52 0-1.04.2-1.43.59L10.3 9.45l-7.72 7.72c-.78.78-.78 2.05 0 2.83L4 21.41c.39.39.9.59 1.41.59.51 0 1.02-.2 1.41-.59l7.78-7.78 2.81-2.81c.8-.78.8-2.07 0-2.86zM5.41 20L4 18.59l7.72-7.72 1.47 1.35L5.41 20z\"/>\n",
              "  </svg>\n",
              "      </button>\n",
              "      \n",
              "  <style>\n",
              "    .colab-df-container {\n",
              "      display:flex;\n",
              "      flex-wrap:wrap;\n",
              "      gap: 12px;\n",
              "    }\n",
              "\n",
              "    .colab-df-convert {\n",
              "      background-color: #E8F0FE;\n",
              "      border: none;\n",
              "      border-radius: 50%;\n",
              "      cursor: pointer;\n",
              "      display: none;\n",
              "      fill: #1967D2;\n",
              "      height: 32px;\n",
              "      padding: 0 0 0 0;\n",
              "      width: 32px;\n",
              "    }\n",
              "\n",
              "    .colab-df-convert:hover {\n",
              "      background-color: #E2EBFA;\n",
              "      box-shadow: 0px 1px 2px rgba(60, 64, 67, 0.3), 0px 1px 3px 1px rgba(60, 64, 67, 0.15);\n",
              "      fill: #174EA6;\n",
              "    }\n",
              "\n",
              "    [theme=dark] .colab-df-convert {\n",
              "      background-color: #3B4455;\n",
              "      fill: #D2E3FC;\n",
              "    }\n",
              "\n",
              "    [theme=dark] .colab-df-convert:hover {\n",
              "      background-color: #434B5C;\n",
              "      box-shadow: 0px 1px 3px 1px rgba(0, 0, 0, 0.15);\n",
              "      filter: drop-shadow(0px 1px 2px rgba(0, 0, 0, 0.3));\n",
              "      fill: #FFFFFF;\n",
              "    }\n",
              "  </style>\n",
              "\n",
              "      <script>\n",
              "        const buttonEl =\n",
              "          document.querySelector('#df-ebddc193-4597-467c-8e72-b35cf46e5fc1 button.colab-df-convert');\n",
              "        buttonEl.style.display =\n",
              "          google.colab.kernel.accessAllowed ? 'block' : 'none';\n",
              "\n",
              "        async function convertToInteractive(key) {\n",
              "          const element = document.querySelector('#df-ebddc193-4597-467c-8e72-b35cf46e5fc1');\n",
              "          const dataTable =\n",
              "            await google.colab.kernel.invokeFunction('convertToInteractive',\n",
              "                                                     [key], {});\n",
              "          if (!dataTable) return;\n",
              "\n",
              "          const docLinkHtml = 'Like what you see? Visit the ' +\n",
              "            '<a target=\"_blank\" href=https://colab.research.google.com/notebooks/data_table.ipynb>data table notebook</a>'\n",
              "            + ' to learn more about interactive tables.';\n",
              "          element.innerHTML = '';\n",
              "          dataTable['output_type'] = 'display_data';\n",
              "          await google.colab.output.renderOutput(dataTable, element);\n",
              "          const docLink = document.createElement('div');\n",
              "          docLink.innerHTML = docLinkHtml;\n",
              "          element.appendChild(docLink);\n",
              "        }\n",
              "      </script>\n",
              "    </div>\n",
              "  </div>\n",
              "  "
            ],
            "text/plain": [
              "                              user_id                track_id  rating\n",
              "205  6879b04def4c52a0d41e07b4f11136d6  47TqCCnEliDp8NRDyIQoQq       1\n",
              "208  c4397b41b68a636a810517e59f6a476b  47TqCCnEliDp8NRDyIQoQq       1\n",
              "212  c411684f86b76734deeb3739bb3ba8f7  47TqCCnEliDp8NRDyIQoQq       1\n",
              "213  9a5f381ade9c41c783520568ae2fb414  47TqCCnEliDp8NRDyIQoQq       1\n",
              "219  e1908ed3528f78587878788ff5522e12  47TqCCnEliDp8NRDyIQoQq       1"
            ]
          },
          "execution_count": 10,
          "metadata": {},
          "output_type": "execute_result"
        }
      ],
      "source": [
        "iteractins = data[['user_id', 'track_id']]\n",
        "iteractins['rating'] = 1\n",
        "iteractins.head()"
      ]
    },
    {
      "cell_type": "code",
      "execution_count": 11,
      "metadata": {
        "colab": {
          "base_uri": "https://localhost:8080/",
          "height": 206
        },
        "id": "Zw-70t2s1kEp",
        "outputId": "5a6e84b5-ca14-4ce5-d476-2e6fa9752fab"
      },
      "outputs": [
        {
          "data": {
            "text/html": [
              "\n",
              "  <div id=\"df-a80e9ea1-0bc3-4d41-8197-0476a1a75b50\">\n",
              "    <div class=\"colab-df-container\">\n",
              "      <div>\n",
              "<style scoped>\n",
              "    .dataframe tbody tr th:only-of-type {\n",
              "        vertical-align: middle;\n",
              "    }\n",
              "\n",
              "    .dataframe tbody tr th {\n",
              "        vertical-align: top;\n",
              "    }\n",
              "\n",
              "    .dataframe thead th {\n",
              "        text-align: right;\n",
              "    }\n",
              "</style>\n",
              "<table border=\"1\" class=\"dataframe\">\n",
              "  <thead>\n",
              "    <tr style=\"text-align: right;\">\n",
              "      <th></th>\n",
              "      <th>user_id</th>\n",
              "      <th>track_id</th>\n",
              "      <th>rating</th>\n",
              "    </tr>\n",
              "  </thead>\n",
              "  <tbody>\n",
              "    <tr>\n",
              "      <th>47768103</th>\n",
              "      <td>fcb53951b703aea91304f9361dc19015</td>\n",
              "      <td>5mGVZ3k5LefACaZwfFcGn8</td>\n",
              "      <td>0</td>\n",
              "    </tr>\n",
              "    <tr>\n",
              "      <th>15629478</th>\n",
              "      <td>d6fe2fadf17540f1d9d5e55061ce439d</td>\n",
              "      <td>6NdcSEhpGGAYXNnnhGS2s6</td>\n",
              "      <td>0</td>\n",
              "    </tr>\n",
              "    <tr>\n",
              "      <th>734475</th>\n",
              "      <td>eba3e39dff8ec3944c96c5fa8c34143b</td>\n",
              "      <td>3jtrtcE7w0mkskTzapDqn8</td>\n",
              "      <td>0</td>\n",
              "    </tr>\n",
              "    <tr>\n",
              "      <th>65114275</th>\n",
              "      <td>f716a9da6c1f6bf32659ff55fb167486</td>\n",
              "      <td>6UzeOH4bRPzKTo2wCXMZmC</td>\n",
              "      <td>0</td>\n",
              "    </tr>\n",
              "    <tr>\n",
              "      <th>1136212</th>\n",
              "      <td>c262869e7c248af3bd1e4702fc7a61e9</td>\n",
              "      <td>5ZISTTuh3YIBtYsCvBKk5w</td>\n",
              "      <td>0</td>\n",
              "    </tr>\n",
              "  </tbody>\n",
              "</table>\n",
              "</div>\n",
              "      <button class=\"colab-df-convert\" onclick=\"convertToInteractive('df-a80e9ea1-0bc3-4d41-8197-0476a1a75b50')\"\n",
              "              title=\"Convert this dataframe to an interactive table.\"\n",
              "              style=\"display:none;\">\n",
              "        \n",
              "  <svg xmlns=\"http://www.w3.org/2000/svg\" height=\"24px\"viewBox=\"0 0 24 24\"\n",
              "       width=\"24px\">\n",
              "    <path d=\"M0 0h24v24H0V0z\" fill=\"none\"/>\n",
              "    <path d=\"M18.56 5.44l.94 2.06.94-2.06 2.06-.94-2.06-.94-.94-2.06-.94 2.06-2.06.94zm-11 1L8.5 8.5l.94-2.06 2.06-.94-2.06-.94L8.5 2.5l-.94 2.06-2.06.94zm10 10l.94 2.06.94-2.06 2.06-.94-2.06-.94-.94-2.06-.94 2.06-2.06.94z\"/><path d=\"M17.41 7.96l-1.37-1.37c-.4-.4-.92-.59-1.43-.59-.52 0-1.04.2-1.43.59L10.3 9.45l-7.72 7.72c-.78.78-.78 2.05 0 2.83L4 21.41c.39.39.9.59 1.41.59.51 0 1.02-.2 1.41-.59l7.78-7.78 2.81-2.81c.8-.78.8-2.07 0-2.86zM5.41 20L4 18.59l7.72-7.72 1.47 1.35L5.41 20z\"/>\n",
              "  </svg>\n",
              "      </button>\n",
              "      \n",
              "  <style>\n",
              "    .colab-df-container {\n",
              "      display:flex;\n",
              "      flex-wrap:wrap;\n",
              "      gap: 12px;\n",
              "    }\n",
              "\n",
              "    .colab-df-convert {\n",
              "      background-color: #E8F0FE;\n",
              "      border: none;\n",
              "      border-radius: 50%;\n",
              "      cursor: pointer;\n",
              "      display: none;\n",
              "      fill: #1967D2;\n",
              "      height: 32px;\n",
              "      padding: 0 0 0 0;\n",
              "      width: 32px;\n",
              "    }\n",
              "\n",
              "    .colab-df-convert:hover {\n",
              "      background-color: #E2EBFA;\n",
              "      box-shadow: 0px 1px 2px rgba(60, 64, 67, 0.3), 0px 1px 3px 1px rgba(60, 64, 67, 0.15);\n",
              "      fill: #174EA6;\n",
              "    }\n",
              "\n",
              "    [theme=dark] .colab-df-convert {\n",
              "      background-color: #3B4455;\n",
              "      fill: #D2E3FC;\n",
              "    }\n",
              "\n",
              "    [theme=dark] .colab-df-convert:hover {\n",
              "      background-color: #434B5C;\n",
              "      box-shadow: 0px 1px 3px 1px rgba(0, 0, 0, 0.15);\n",
              "      filter: drop-shadow(0px 1px 2px rgba(0, 0, 0, 0.3));\n",
              "      fill: #FFFFFF;\n",
              "    }\n",
              "  </style>\n",
              "\n",
              "      <script>\n",
              "        const buttonEl =\n",
              "          document.querySelector('#df-a80e9ea1-0bc3-4d41-8197-0476a1a75b50 button.colab-df-convert');\n",
              "        buttonEl.style.display =\n",
              "          google.colab.kernel.accessAllowed ? 'block' : 'none';\n",
              "\n",
              "        async function convertToInteractive(key) {\n",
              "          const element = document.querySelector('#df-a80e9ea1-0bc3-4d41-8197-0476a1a75b50');\n",
              "          const dataTable =\n",
              "            await google.colab.kernel.invokeFunction('convertToInteractive',\n",
              "                                                     [key], {});\n",
              "          if (!dataTable) return;\n",
              "\n",
              "          const docLinkHtml = 'Like what you see? Visit the ' +\n",
              "            '<a target=\"_blank\" href=https://colab.research.google.com/notebooks/data_table.ipynb>data table notebook</a>'\n",
              "            + ' to learn more about interactive tables.';\n",
              "          element.innerHTML = '';\n",
              "          dataTable['output_type'] = 'display_data';\n",
              "          await google.colab.output.renderOutput(dataTable, element);\n",
              "          const docLink = document.createElement('div');\n",
              "          docLink.innerHTML = docLinkHtml;\n",
              "          element.appendChild(docLink);\n",
              "        }\n",
              "      </script>\n",
              "    </div>\n",
              "  </div>\n",
              "  "
            ],
            "text/plain": [
              "                                   user_id                track_id  rating\n",
              "47768103  fcb53951b703aea91304f9361dc19015  5mGVZ3k5LefACaZwfFcGn8       0\n",
              "15629478  d6fe2fadf17540f1d9d5e55061ce439d  6NdcSEhpGGAYXNnnhGS2s6       0\n",
              "734475    eba3e39dff8ec3944c96c5fa8c34143b  3jtrtcE7w0mkskTzapDqn8       0\n",
              "65114275  f716a9da6c1f6bf32659ff55fb167486  6UzeOH4bRPzKTo2wCXMZmC       0\n",
              "1136212   c262869e7c248af3bd1e4702fc7a61e9  5ZISTTuh3YIBtYsCvBKk5w       0"
            ]
          },
          "execution_count": 11,
          "metadata": {},
          "output_type": "execute_result"
        }
      ],
      "source": [
        "iteractins_neg = pd.DataFrame(data['user_id'].unique()).merge(pd.DataFrame(data['track_id'].unique()), how='cross').sample(frac=0.07)\n",
        "iteractins_neg.columns = ['user_id', 'track_id']\n",
        "iteractins_neg['rating'] = 0\n",
        "iteractins_neg.head()"
      ]
    },
    {
      "cell_type": "code",
      "execution_count": 12,
      "metadata": {
        "colab": {
          "base_uri": "https://localhost:8080/",
          "height": 206
        },
        "id": "ecAea3cl1kEq",
        "outputId": "9f2dc92a-a136-4a62-8207-e1168af2b62c"
      },
      "outputs": [
        {
          "data": {
            "text/html": [
              "\n",
              "  <div id=\"df-8e86f3d3-db41-42cc-a5cc-d8f781303fb2\">\n",
              "    <div class=\"colab-df-container\">\n",
              "      <div>\n",
              "<style scoped>\n",
              "    .dataframe tbody tr th:only-of-type {\n",
              "        vertical-align: middle;\n",
              "    }\n",
              "\n",
              "    .dataframe tbody tr th {\n",
              "        vertical-align: top;\n",
              "    }\n",
              "\n",
              "    .dataframe thead th {\n",
              "        text-align: right;\n",
              "    }\n",
              "</style>\n",
              "<table border=\"1\" class=\"dataframe\">\n",
              "  <thead>\n",
              "    <tr style=\"text-align: right;\">\n",
              "      <th></th>\n",
              "      <th>user_id</th>\n",
              "      <th>track_id</th>\n",
              "      <th>rating</th>\n",
              "    </tr>\n",
              "  </thead>\n",
              "  <tbody>\n",
              "    <tr>\n",
              "      <th>0</th>\n",
              "      <td>0007f3dd09c91198371454c608d47f22</td>\n",
              "      <td>00cn1ynXQhURwsgv69fN0b</td>\n",
              "      <td>0</td>\n",
              "    </tr>\n",
              "    <tr>\n",
              "      <th>1</th>\n",
              "      <td>0007f3dd09c91198371454c608d47f22</td>\n",
              "      <td>00t7QTffOR3SA3L1BvSQVq</td>\n",
              "      <td>0</td>\n",
              "    </tr>\n",
              "    <tr>\n",
              "      <th>2</th>\n",
              "      <td>0007f3dd09c91198371454c608d47f22</td>\n",
              "      <td>0171XsIM2xyeXRr6wsugEI</td>\n",
              "      <td>0</td>\n",
              "    </tr>\n",
              "    <tr>\n",
              "      <th>3</th>\n",
              "      <td>0007f3dd09c91198371454c608d47f22</td>\n",
              "      <td>020ffiIfWvx5EH9VJ8Dkg2</td>\n",
              "      <td>0</td>\n",
              "    </tr>\n",
              "    <tr>\n",
              "      <th>4</th>\n",
              "      <td>0007f3dd09c91198371454c608d47f22</td>\n",
              "      <td>03GJyQfnhwq8f4NK5sOxO5</td>\n",
              "      <td>0</td>\n",
              "    </tr>\n",
              "  </tbody>\n",
              "</table>\n",
              "</div>\n",
              "      <button class=\"colab-df-convert\" onclick=\"convertToInteractive('df-8e86f3d3-db41-42cc-a5cc-d8f781303fb2')\"\n",
              "              title=\"Convert this dataframe to an interactive table.\"\n",
              "              style=\"display:none;\">\n",
              "        \n",
              "  <svg xmlns=\"http://www.w3.org/2000/svg\" height=\"24px\"viewBox=\"0 0 24 24\"\n",
              "       width=\"24px\">\n",
              "    <path d=\"M0 0h24v24H0V0z\" fill=\"none\"/>\n",
              "    <path d=\"M18.56 5.44l.94 2.06.94-2.06 2.06-.94-2.06-.94-.94-2.06-.94 2.06-2.06.94zm-11 1L8.5 8.5l.94-2.06 2.06-.94-2.06-.94L8.5 2.5l-.94 2.06-2.06.94zm10 10l.94 2.06.94-2.06 2.06-.94-2.06-.94-.94-2.06-.94 2.06-2.06.94z\"/><path d=\"M17.41 7.96l-1.37-1.37c-.4-.4-.92-.59-1.43-.59-.52 0-1.04.2-1.43.59L10.3 9.45l-7.72 7.72c-.78.78-.78 2.05 0 2.83L4 21.41c.39.39.9.59 1.41.59.51 0 1.02-.2 1.41-.59l7.78-7.78 2.81-2.81c.8-.78.8-2.07 0-2.86zM5.41 20L4 18.59l7.72-7.72 1.47 1.35L5.41 20z\"/>\n",
              "  </svg>\n",
              "      </button>\n",
              "      \n",
              "  <style>\n",
              "    .colab-df-container {\n",
              "      display:flex;\n",
              "      flex-wrap:wrap;\n",
              "      gap: 12px;\n",
              "    }\n",
              "\n",
              "    .colab-df-convert {\n",
              "      background-color: #E8F0FE;\n",
              "      border: none;\n",
              "      border-radius: 50%;\n",
              "      cursor: pointer;\n",
              "      display: none;\n",
              "      fill: #1967D2;\n",
              "      height: 32px;\n",
              "      padding: 0 0 0 0;\n",
              "      width: 32px;\n",
              "    }\n",
              "\n",
              "    .colab-df-convert:hover {\n",
              "      background-color: #E2EBFA;\n",
              "      box-shadow: 0px 1px 2px rgba(60, 64, 67, 0.3), 0px 1px 3px 1px rgba(60, 64, 67, 0.15);\n",
              "      fill: #174EA6;\n",
              "    }\n",
              "\n",
              "    [theme=dark] .colab-df-convert {\n",
              "      background-color: #3B4455;\n",
              "      fill: #D2E3FC;\n",
              "    }\n",
              "\n",
              "    [theme=dark] .colab-df-convert:hover {\n",
              "      background-color: #434B5C;\n",
              "      box-shadow: 0px 1px 3px 1px rgba(0, 0, 0, 0.15);\n",
              "      filter: drop-shadow(0px 1px 2px rgba(0, 0, 0, 0.3));\n",
              "      fill: #FFFFFF;\n",
              "    }\n",
              "  </style>\n",
              "\n",
              "      <script>\n",
              "        const buttonEl =\n",
              "          document.querySelector('#df-8e86f3d3-db41-42cc-a5cc-d8f781303fb2 button.colab-df-convert');\n",
              "        buttonEl.style.display =\n",
              "          google.colab.kernel.accessAllowed ? 'block' : 'none';\n",
              "\n",
              "        async function convertToInteractive(key) {\n",
              "          const element = document.querySelector('#df-8e86f3d3-db41-42cc-a5cc-d8f781303fb2');\n",
              "          const dataTable =\n",
              "            await google.colab.kernel.invokeFunction('convertToInteractive',\n",
              "                                                     [key], {});\n",
              "          if (!dataTable) return;\n",
              "\n",
              "          const docLinkHtml = 'Like what you see? Visit the ' +\n",
              "            '<a target=\"_blank\" href=https://colab.research.google.com/notebooks/data_table.ipynb>data table notebook</a>'\n",
              "            + ' to learn more about interactive tables.';\n",
              "          element.innerHTML = '';\n",
              "          dataTable['output_type'] = 'display_data';\n",
              "          await google.colab.output.renderOutput(dataTable, element);\n",
              "          const docLink = document.createElement('div');\n",
              "          docLink.innerHTML = docLinkHtml;\n",
              "          element.appendChild(docLink);\n",
              "        }\n",
              "      </script>\n",
              "    </div>\n",
              "  </div>\n",
              "  "
            ],
            "text/plain": [
              "                            user_id                track_id  rating\n",
              "0  0007f3dd09c91198371454c608d47f22  00cn1ynXQhURwsgv69fN0b       0\n",
              "1  0007f3dd09c91198371454c608d47f22  00t7QTffOR3SA3L1BvSQVq       0\n",
              "2  0007f3dd09c91198371454c608d47f22  0171XsIM2xyeXRr6wsugEI       0\n",
              "3  0007f3dd09c91198371454c608d47f22  020ffiIfWvx5EH9VJ8Dkg2       0\n",
              "4  0007f3dd09c91198371454c608d47f22  03GJyQfnhwq8f4NK5sOxO5       0"
            ]
          },
          "execution_count": 12,
          "metadata": {},
          "output_type": "execute_result"
        }
      ],
      "source": [
        "iteractins_ = pd.concat([iteractins_neg, iteractins]).groupby(['user_id', 'track_id']).aggregate({\"rating\":\"max\"}).reset_index()\n",
        "iteractins_.head()"
      ]
    },
    {
      "cell_type": "code",
      "execution_count": 13,
      "metadata": {
        "colab": {
          "base_uri": "https://localhost:8080/"
        },
        "id": "6vby-mr61kEq",
        "outputId": "f01aa16f-d9e8-4b93-f502-06f68d532f4a"
      },
      "outputs": [
        {
          "data": {
            "text/plain": [
              "((5442577, 3), 0.16926154650637004, 921219)"
            ]
          },
          "execution_count": 13,
          "metadata": {},
          "output_type": "execute_result"
        }
      ],
      "source": [
        "iteractins_.shape, iteractins_['rating'].mean(), iteractins_['rating'].sum()"
      ]
    },
    {
      "cell_type": "code",
      "execution_count": 14,
      "metadata": {
        "id": "J3Ep00mE1kEq"
      },
      "outputs": [],
      "source": [
        "def tabular_preview(ratings, n=15):\n",
        "    \"\"\"Creates a cross-tabular view of users vs movies.\"\"\"\n",
        "\n",
        "    user_groups = ratings.groupby('user_id')['rating'].count()\n",
        "    top_users = user_groups.sort_values(ascending=False)[:15]\n",
        "\n",
        "    movie_groups = ratings.groupby('track_id')['rating'].count()\n",
        "    top_movies = movie_groups.sort_values(ascending=False)[:15]\n",
        "\n",
        "    top = (\n",
        "        ratings.\n",
        "        join(top_users, rsuffix='_r', how='inner', on='user_id').\n",
        "        join(top_movies, rsuffix='_r', how='inner', on='track_id'))\n",
        "\n",
        "    return pd.crosstab(top.user_id, top.track_id, top.rating, aggfunc=np.sum)"
      ]
    },
    {
      "cell_type": "code",
      "execution_count": 15,
      "metadata": {
        "colab": {
          "base_uri": "https://localhost:8080/",
          "height": 615
        },
        "id": "Q04ucMK_1kEq",
        "outputId": "a5fa7d0e-2ca5-45fb-f9a0-9dd0c4778ae1"
      },
      "outputs": [
        {
          "data": {
            "text/html": [
              "\n",
              "  <div id=\"df-24cfd351-47da-4e4b-8484-55cd6badf952\">\n",
              "    <div class=\"colab-df-container\">\n",
              "      <div>\n",
              "<style scoped>\n",
              "    .dataframe tbody tr th:only-of-type {\n",
              "        vertical-align: middle;\n",
              "    }\n",
              "\n",
              "    .dataframe tbody tr th {\n",
              "        vertical-align: top;\n",
              "    }\n",
              "\n",
              "    .dataframe thead th {\n",
              "        text-align: right;\n",
              "    }\n",
              "</style>\n",
              "<table border=\"1\" class=\"dataframe\">\n",
              "  <thead>\n",
              "    <tr style=\"text-align: right;\">\n",
              "      <th>track_id</th>\n",
              "      <th>0W4Kpfp1w2xkY3PrV714B7</th>\n",
              "      <th>0n4bITAu0Y0nigrz3MFJMb</th>\n",
              "      <th>2dLLR6qlu5UJ5gk0dKz0h3</th>\n",
              "      <th>32OlwWuMpZ6b0aN2RZOeMS</th>\n",
              "      <th>3a2tuvXCHbW5nuUckuHkKT</th>\n",
              "      <th>3bidbhpOYeV4knp8AIu8Xn</th>\n",
              "      <th>3gbBpTdY8lnQwqxNCcf795</th>\n",
              "      <th>3s4U7OHV7gnj42VV72eSZ6</th>\n",
              "      <th>4G8gkOterJn0Ywt6uhqbhp</th>\n",
              "      <th>4h8VwCb1MTGoLKueQ1WgbD</th>\n",
              "      <th>5FVd6KXrgO9B3JPmC8OPst</th>\n",
              "      <th>5ghIJDpPoe3CfHMGu71E6T</th>\n",
              "      <th>69kOkLUCkxIZYexIgSG8rq</th>\n",
              "      <th>6GmUVqe73u5YRfUUynZK6I</th>\n",
              "      <th>7oK9VyNzrYvRFo7nQEYkWN</th>\n",
              "    </tr>\n",
              "    <tr>\n",
              "      <th>user_id</th>\n",
              "      <th></th>\n",
              "      <th></th>\n",
              "      <th></th>\n",
              "      <th></th>\n",
              "      <th></th>\n",
              "      <th></th>\n",
              "      <th></th>\n",
              "      <th></th>\n",
              "      <th></th>\n",
              "      <th></th>\n",
              "      <th></th>\n",
              "      <th></th>\n",
              "      <th></th>\n",
              "      <th></th>\n",
              "      <th></th>\n",
              "    </tr>\n",
              "  </thead>\n",
              "  <tbody>\n",
              "    <tr>\n",
              "      <th>00dd7fde8040db835d917e077bb47e4b</th>\n",
              "      <td>NaN</td>\n",
              "      <td>NaN</td>\n",
              "      <td>1.0</td>\n",
              "      <td>NaN</td>\n",
              "      <td>1.0</td>\n",
              "      <td>1.0</td>\n",
              "      <td>1.0</td>\n",
              "      <td>NaN</td>\n",
              "      <td>1.0</td>\n",
              "      <td>1.0</td>\n",
              "      <td>0.0</td>\n",
              "      <td>1.0</td>\n",
              "      <td>1.0</td>\n",
              "      <td>1.0</td>\n",
              "      <td>1.0</td>\n",
              "    </tr>\n",
              "    <tr>\n",
              "      <th>05422749e89268463444e00ddea1faf1</th>\n",
              "      <td>1.0</td>\n",
              "      <td>1.0</td>\n",
              "      <td>1.0</td>\n",
              "      <td>1.0</td>\n",
              "      <td>1.0</td>\n",
              "      <td>1.0</td>\n",
              "      <td>1.0</td>\n",
              "      <td>1.0</td>\n",
              "      <td>1.0</td>\n",
              "      <td>1.0</td>\n",
              "      <td>1.0</td>\n",
              "      <td>1.0</td>\n",
              "      <td>1.0</td>\n",
              "      <td>1.0</td>\n",
              "      <td>1.0</td>\n",
              "    </tr>\n",
              "    <tr>\n",
              "      <th>139c408e52a497aac29753125d65b0ae</th>\n",
              "      <td>1.0</td>\n",
              "      <td>1.0</td>\n",
              "      <td>1.0</td>\n",
              "      <td>1.0</td>\n",
              "      <td>NaN</td>\n",
              "      <td>NaN</td>\n",
              "      <td>NaN</td>\n",
              "      <td>NaN</td>\n",
              "      <td>1.0</td>\n",
              "      <td>1.0</td>\n",
              "      <td>1.0</td>\n",
              "      <td>1.0</td>\n",
              "      <td>1.0</td>\n",
              "      <td>1.0</td>\n",
              "      <td>1.0</td>\n",
              "    </tr>\n",
              "    <tr>\n",
              "      <th>1d7a6816a47881ad65c4d0fb65b49c41</th>\n",
              "      <td>NaN</td>\n",
              "      <td>1.0</td>\n",
              "      <td>1.0</td>\n",
              "      <td>NaN</td>\n",
              "      <td>NaN</td>\n",
              "      <td>NaN</td>\n",
              "      <td>NaN</td>\n",
              "      <td>NaN</td>\n",
              "      <td>NaN</td>\n",
              "      <td>NaN</td>\n",
              "      <td>1.0</td>\n",
              "      <td>0.0</td>\n",
              "      <td>1.0</td>\n",
              "      <td>NaN</td>\n",
              "      <td>NaN</td>\n",
              "    </tr>\n",
              "    <tr>\n",
              "      <th>3196442b472af9bbb51e1628ca3c188a</th>\n",
              "      <td>1.0</td>\n",
              "      <td>NaN</td>\n",
              "      <td>NaN</td>\n",
              "      <td>NaN</td>\n",
              "      <td>1.0</td>\n",
              "      <td>NaN</td>\n",
              "      <td>NaN</td>\n",
              "      <td>1.0</td>\n",
              "      <td>NaN</td>\n",
              "      <td>NaN</td>\n",
              "      <td>1.0</td>\n",
              "      <td>1.0</td>\n",
              "      <td>1.0</td>\n",
              "      <td>NaN</td>\n",
              "      <td>NaN</td>\n",
              "    </tr>\n",
              "    <tr>\n",
              "      <th>4398de6902abde3351347b048fcdc287</th>\n",
              "      <td>1.0</td>\n",
              "      <td>1.0</td>\n",
              "      <td>NaN</td>\n",
              "      <td>1.0</td>\n",
              "      <td>1.0</td>\n",
              "      <td>1.0</td>\n",
              "      <td>1.0</td>\n",
              "      <td>1.0</td>\n",
              "      <td>1.0</td>\n",
              "      <td>NaN</td>\n",
              "      <td>1.0</td>\n",
              "      <td>NaN</td>\n",
              "      <td>1.0</td>\n",
              "      <td>1.0</td>\n",
              "      <td>1.0</td>\n",
              "    </tr>\n",
              "    <tr>\n",
              "      <th>47300b211a76740722648b21a438653a</th>\n",
              "      <td>NaN</td>\n",
              "      <td>1.0</td>\n",
              "      <td>NaN</td>\n",
              "      <td>NaN</td>\n",
              "      <td>NaN</td>\n",
              "      <td>NaN</td>\n",
              "      <td>NaN</td>\n",
              "      <td>NaN</td>\n",
              "      <td>1.0</td>\n",
              "      <td>NaN</td>\n",
              "      <td>0.0</td>\n",
              "      <td>1.0</td>\n",
              "      <td>1.0</td>\n",
              "      <td>NaN</td>\n",
              "      <td>1.0</td>\n",
              "    </tr>\n",
              "    <tr>\n",
              "      <th>5974698501e05d24c6599fb5a849cc93</th>\n",
              "      <td>1.0</td>\n",
              "      <td>NaN</td>\n",
              "      <td>1.0</td>\n",
              "      <td>NaN</td>\n",
              "      <td>1.0</td>\n",
              "      <td>1.0</td>\n",
              "      <td>NaN</td>\n",
              "      <td>NaN</td>\n",
              "      <td>1.0</td>\n",
              "      <td>NaN</td>\n",
              "      <td>NaN</td>\n",
              "      <td>1.0</td>\n",
              "      <td>NaN</td>\n",
              "      <td>1.0</td>\n",
              "      <td>1.0</td>\n",
              "    </tr>\n",
              "    <tr>\n",
              "      <th>6752faf971cd451d87b270621979e2d5</th>\n",
              "      <td>1.0</td>\n",
              "      <td>1.0</td>\n",
              "      <td>1.0</td>\n",
              "      <td>1.0</td>\n",
              "      <td>1.0</td>\n",
              "      <td>1.0</td>\n",
              "      <td>1.0</td>\n",
              "      <td>1.0</td>\n",
              "      <td>1.0</td>\n",
              "      <td>1.0</td>\n",
              "      <td>1.0</td>\n",
              "      <td>1.0</td>\n",
              "      <td>1.0</td>\n",
              "      <td>1.0</td>\n",
              "      <td>1.0</td>\n",
              "    </tr>\n",
              "    <tr>\n",
              "      <th>68756b4d60b6fac27789e85c2b63d1c6</th>\n",
              "      <td>0.0</td>\n",
              "      <td>NaN</td>\n",
              "      <td>NaN</td>\n",
              "      <td>NaN</td>\n",
              "      <td>NaN</td>\n",
              "      <td>0.0</td>\n",
              "      <td>NaN</td>\n",
              "      <td>0.0</td>\n",
              "      <td>NaN</td>\n",
              "      <td>NaN</td>\n",
              "      <td>NaN</td>\n",
              "      <td>NaN</td>\n",
              "      <td>NaN</td>\n",
              "      <td>NaN</td>\n",
              "      <td>1.0</td>\n",
              "    </tr>\n",
              "    <tr>\n",
              "      <th>7ee2b92c5bcf6133b8132363e5bda960</th>\n",
              "      <td>NaN</td>\n",
              "      <td>NaN</td>\n",
              "      <td>0.0</td>\n",
              "      <td>NaN</td>\n",
              "      <td>NaN</td>\n",
              "      <td>NaN</td>\n",
              "      <td>NaN</td>\n",
              "      <td>NaN</td>\n",
              "      <td>NaN</td>\n",
              "      <td>NaN</td>\n",
              "      <td>NaN</td>\n",
              "      <td>1.0</td>\n",
              "      <td>NaN</td>\n",
              "      <td>NaN</td>\n",
              "      <td>NaN</td>\n",
              "    </tr>\n",
              "    <tr>\n",
              "      <th>83caf5444f6b402335740cbd248bed34</th>\n",
              "      <td>1.0</td>\n",
              "      <td>1.0</td>\n",
              "      <td>1.0</td>\n",
              "      <td>NaN</td>\n",
              "      <td>NaN</td>\n",
              "      <td>1.0</td>\n",
              "      <td>1.0</td>\n",
              "      <td>NaN</td>\n",
              "      <td>1.0</td>\n",
              "      <td>1.0</td>\n",
              "      <td>NaN</td>\n",
              "      <td>1.0</td>\n",
              "      <td>NaN</td>\n",
              "      <td>1.0</td>\n",
              "      <td>1.0</td>\n",
              "    </tr>\n",
              "    <tr>\n",
              "      <th>8ece433d541d9fac7fbd7c0c6082c7a6</th>\n",
              "      <td>NaN</td>\n",
              "      <td>NaN</td>\n",
              "      <td>NaN</td>\n",
              "      <td>NaN</td>\n",
              "      <td>NaN</td>\n",
              "      <td>0.0</td>\n",
              "      <td>NaN</td>\n",
              "      <td>NaN</td>\n",
              "      <td>NaN</td>\n",
              "      <td>NaN</td>\n",
              "      <td>NaN</td>\n",
              "      <td>1.0</td>\n",
              "      <td>NaN</td>\n",
              "      <td>NaN</td>\n",
              "      <td>1.0</td>\n",
              "    </tr>\n",
              "    <tr>\n",
              "      <th>f006fae400158646e274820937d25de9</th>\n",
              "      <td>NaN</td>\n",
              "      <td>NaN</td>\n",
              "      <td>NaN</td>\n",
              "      <td>NaN</td>\n",
              "      <td>NaN</td>\n",
              "      <td>NaN</td>\n",
              "      <td>NaN</td>\n",
              "      <td>NaN</td>\n",
              "      <td>NaN</td>\n",
              "      <td>NaN</td>\n",
              "      <td>1.0</td>\n",
              "      <td>1.0</td>\n",
              "      <td>1.0</td>\n",
              "      <td>NaN</td>\n",
              "      <td>1.0</td>\n",
              "    </tr>\n",
              "    <tr>\n",
              "      <th>fa849dabeb14a2800ad5130907fc5018</th>\n",
              "      <td>NaN</td>\n",
              "      <td>NaN</td>\n",
              "      <td>NaN</td>\n",
              "      <td>NaN</td>\n",
              "      <td>NaN</td>\n",
              "      <td>NaN</td>\n",
              "      <td>0.0</td>\n",
              "      <td>NaN</td>\n",
              "      <td>1.0</td>\n",
              "      <td>NaN</td>\n",
              "      <td>NaN</td>\n",
              "      <td>1.0</td>\n",
              "      <td>0.0</td>\n",
              "      <td>NaN</td>\n",
              "      <td>NaN</td>\n",
              "    </tr>\n",
              "  </tbody>\n",
              "</table>\n",
              "</div>\n",
              "      <button class=\"colab-df-convert\" onclick=\"convertToInteractive('df-24cfd351-47da-4e4b-8484-55cd6badf952')\"\n",
              "              title=\"Convert this dataframe to an interactive table.\"\n",
              "              style=\"display:none;\">\n",
              "        \n",
              "  <svg xmlns=\"http://www.w3.org/2000/svg\" height=\"24px\"viewBox=\"0 0 24 24\"\n",
              "       width=\"24px\">\n",
              "    <path d=\"M0 0h24v24H0V0z\" fill=\"none\"/>\n",
              "    <path d=\"M18.56 5.44l.94 2.06.94-2.06 2.06-.94-2.06-.94-.94-2.06-.94 2.06-2.06.94zm-11 1L8.5 8.5l.94-2.06 2.06-.94-2.06-.94L8.5 2.5l-.94 2.06-2.06.94zm10 10l.94 2.06.94-2.06 2.06-.94-2.06-.94-.94-2.06-.94 2.06-2.06.94z\"/><path d=\"M17.41 7.96l-1.37-1.37c-.4-.4-.92-.59-1.43-.59-.52 0-1.04.2-1.43.59L10.3 9.45l-7.72 7.72c-.78.78-.78 2.05 0 2.83L4 21.41c.39.39.9.59 1.41.59.51 0 1.02-.2 1.41-.59l7.78-7.78 2.81-2.81c.8-.78.8-2.07 0-2.86zM5.41 20L4 18.59l7.72-7.72 1.47 1.35L5.41 20z\"/>\n",
              "  </svg>\n",
              "      </button>\n",
              "      \n",
              "  <style>\n",
              "    .colab-df-container {\n",
              "      display:flex;\n",
              "      flex-wrap:wrap;\n",
              "      gap: 12px;\n",
              "    }\n",
              "\n",
              "    .colab-df-convert {\n",
              "      background-color: #E8F0FE;\n",
              "      border: none;\n",
              "      border-radius: 50%;\n",
              "      cursor: pointer;\n",
              "      display: none;\n",
              "      fill: #1967D2;\n",
              "      height: 32px;\n",
              "      padding: 0 0 0 0;\n",
              "      width: 32px;\n",
              "    }\n",
              "\n",
              "    .colab-df-convert:hover {\n",
              "      background-color: #E2EBFA;\n",
              "      box-shadow: 0px 1px 2px rgba(60, 64, 67, 0.3), 0px 1px 3px 1px rgba(60, 64, 67, 0.15);\n",
              "      fill: #174EA6;\n",
              "    }\n",
              "\n",
              "    [theme=dark] .colab-df-convert {\n",
              "      background-color: #3B4455;\n",
              "      fill: #D2E3FC;\n",
              "    }\n",
              "\n",
              "    [theme=dark] .colab-df-convert:hover {\n",
              "      background-color: #434B5C;\n",
              "      box-shadow: 0px 1px 3px 1px rgba(0, 0, 0, 0.15);\n",
              "      filter: drop-shadow(0px 1px 2px rgba(0, 0, 0, 0.3));\n",
              "      fill: #FFFFFF;\n",
              "    }\n",
              "  </style>\n",
              "\n",
              "      <script>\n",
              "        const buttonEl =\n",
              "          document.querySelector('#df-24cfd351-47da-4e4b-8484-55cd6badf952 button.colab-df-convert');\n",
              "        buttonEl.style.display =\n",
              "          google.colab.kernel.accessAllowed ? 'block' : 'none';\n",
              "\n",
              "        async function convertToInteractive(key) {\n",
              "          const element = document.querySelector('#df-24cfd351-47da-4e4b-8484-55cd6badf952');\n",
              "          const dataTable =\n",
              "            await google.colab.kernel.invokeFunction('convertToInteractive',\n",
              "                                                     [key], {});\n",
              "          if (!dataTable) return;\n",
              "\n",
              "          const docLinkHtml = 'Like what you see? Visit the ' +\n",
              "            '<a target=\"_blank\" href=https://colab.research.google.com/notebooks/data_table.ipynb>data table notebook</a>'\n",
              "            + ' to learn more about interactive tables.';\n",
              "          element.innerHTML = '';\n",
              "          dataTable['output_type'] = 'display_data';\n",
              "          await google.colab.output.renderOutput(dataTable, element);\n",
              "          const docLink = document.createElement('div');\n",
              "          docLink.innerHTML = docLinkHtml;\n",
              "          element.appendChild(docLink);\n",
              "        }\n",
              "      </script>\n",
              "    </div>\n",
              "  </div>\n",
              "  "
            ],
            "text/plain": [
              "track_id                          0W4Kpfp1w2xkY3PrV714B7  \\\n",
              "user_id                                                    \n",
              "00dd7fde8040db835d917e077bb47e4b                     NaN   \n",
              "05422749e89268463444e00ddea1faf1                     1.0   \n",
              "139c408e52a497aac29753125d65b0ae                     1.0   \n",
              "1d7a6816a47881ad65c4d0fb65b49c41                     NaN   \n",
              "3196442b472af9bbb51e1628ca3c188a                     1.0   \n",
              "4398de6902abde3351347b048fcdc287                     1.0   \n",
              "47300b211a76740722648b21a438653a                     NaN   \n",
              "5974698501e05d24c6599fb5a849cc93                     1.0   \n",
              "6752faf971cd451d87b270621979e2d5                     1.0   \n",
              "68756b4d60b6fac27789e85c2b63d1c6                     0.0   \n",
              "7ee2b92c5bcf6133b8132363e5bda960                     NaN   \n",
              "83caf5444f6b402335740cbd248bed34                     1.0   \n",
              "8ece433d541d9fac7fbd7c0c6082c7a6                     NaN   \n",
              "f006fae400158646e274820937d25de9                     NaN   \n",
              "fa849dabeb14a2800ad5130907fc5018                     NaN   \n",
              "\n",
              "track_id                          0n4bITAu0Y0nigrz3MFJMb  \\\n",
              "user_id                                                    \n",
              "00dd7fde8040db835d917e077bb47e4b                     NaN   \n",
              "05422749e89268463444e00ddea1faf1                     1.0   \n",
              "139c408e52a497aac29753125d65b0ae                     1.0   \n",
              "1d7a6816a47881ad65c4d0fb65b49c41                     1.0   \n",
              "3196442b472af9bbb51e1628ca3c188a                     NaN   \n",
              "4398de6902abde3351347b048fcdc287                     1.0   \n",
              "47300b211a76740722648b21a438653a                     1.0   \n",
              "5974698501e05d24c6599fb5a849cc93                     NaN   \n",
              "6752faf971cd451d87b270621979e2d5                     1.0   \n",
              "68756b4d60b6fac27789e85c2b63d1c6                     NaN   \n",
              "7ee2b92c5bcf6133b8132363e5bda960                     NaN   \n",
              "83caf5444f6b402335740cbd248bed34                     1.0   \n",
              "8ece433d541d9fac7fbd7c0c6082c7a6                     NaN   \n",
              "f006fae400158646e274820937d25de9                     NaN   \n",
              "fa849dabeb14a2800ad5130907fc5018                     NaN   \n",
              "\n",
              "track_id                          2dLLR6qlu5UJ5gk0dKz0h3  \\\n",
              "user_id                                                    \n",
              "00dd7fde8040db835d917e077bb47e4b                     1.0   \n",
              "05422749e89268463444e00ddea1faf1                     1.0   \n",
              "139c408e52a497aac29753125d65b0ae                     1.0   \n",
              "1d7a6816a47881ad65c4d0fb65b49c41                     1.0   \n",
              "3196442b472af9bbb51e1628ca3c188a                     NaN   \n",
              "4398de6902abde3351347b048fcdc287                     NaN   \n",
              "47300b211a76740722648b21a438653a                     NaN   \n",
              "5974698501e05d24c6599fb5a849cc93                     1.0   \n",
              "6752faf971cd451d87b270621979e2d5                     1.0   \n",
              "68756b4d60b6fac27789e85c2b63d1c6                     NaN   \n",
              "7ee2b92c5bcf6133b8132363e5bda960                     0.0   \n",
              "83caf5444f6b402335740cbd248bed34                     1.0   \n",
              "8ece433d541d9fac7fbd7c0c6082c7a6                     NaN   \n",
              "f006fae400158646e274820937d25de9                     NaN   \n",
              "fa849dabeb14a2800ad5130907fc5018                     NaN   \n",
              "\n",
              "track_id                          32OlwWuMpZ6b0aN2RZOeMS  \\\n",
              "user_id                                                    \n",
              "00dd7fde8040db835d917e077bb47e4b                     NaN   \n",
              "05422749e89268463444e00ddea1faf1                     1.0   \n",
              "139c408e52a497aac29753125d65b0ae                     1.0   \n",
              "1d7a6816a47881ad65c4d0fb65b49c41                     NaN   \n",
              "3196442b472af9bbb51e1628ca3c188a                     NaN   \n",
              "4398de6902abde3351347b048fcdc287                     1.0   \n",
              "47300b211a76740722648b21a438653a                     NaN   \n",
              "5974698501e05d24c6599fb5a849cc93                     NaN   \n",
              "6752faf971cd451d87b270621979e2d5                     1.0   \n",
              "68756b4d60b6fac27789e85c2b63d1c6                     NaN   \n",
              "7ee2b92c5bcf6133b8132363e5bda960                     NaN   \n",
              "83caf5444f6b402335740cbd248bed34                     NaN   \n",
              "8ece433d541d9fac7fbd7c0c6082c7a6                     NaN   \n",
              "f006fae400158646e274820937d25de9                     NaN   \n",
              "fa849dabeb14a2800ad5130907fc5018                     NaN   \n",
              "\n",
              "track_id                          3a2tuvXCHbW5nuUckuHkKT  \\\n",
              "user_id                                                    \n",
              "00dd7fde8040db835d917e077bb47e4b                     1.0   \n",
              "05422749e89268463444e00ddea1faf1                     1.0   \n",
              "139c408e52a497aac29753125d65b0ae                     NaN   \n",
              "1d7a6816a47881ad65c4d0fb65b49c41                     NaN   \n",
              "3196442b472af9bbb51e1628ca3c188a                     1.0   \n",
              "4398de6902abde3351347b048fcdc287                     1.0   \n",
              "47300b211a76740722648b21a438653a                     NaN   \n",
              "5974698501e05d24c6599fb5a849cc93                     1.0   \n",
              "6752faf971cd451d87b270621979e2d5                     1.0   \n",
              "68756b4d60b6fac27789e85c2b63d1c6                     NaN   \n",
              "7ee2b92c5bcf6133b8132363e5bda960                     NaN   \n",
              "83caf5444f6b402335740cbd248bed34                     NaN   \n",
              "8ece433d541d9fac7fbd7c0c6082c7a6                     NaN   \n",
              "f006fae400158646e274820937d25de9                     NaN   \n",
              "fa849dabeb14a2800ad5130907fc5018                     NaN   \n",
              "\n",
              "track_id                          3bidbhpOYeV4knp8AIu8Xn  \\\n",
              "user_id                                                    \n",
              "00dd7fde8040db835d917e077bb47e4b                     1.0   \n",
              "05422749e89268463444e00ddea1faf1                     1.0   \n",
              "139c408e52a497aac29753125d65b0ae                     NaN   \n",
              "1d7a6816a47881ad65c4d0fb65b49c41                     NaN   \n",
              "3196442b472af9bbb51e1628ca3c188a                     NaN   \n",
              "4398de6902abde3351347b048fcdc287                     1.0   \n",
              "47300b211a76740722648b21a438653a                     NaN   \n",
              "5974698501e05d24c6599fb5a849cc93                     1.0   \n",
              "6752faf971cd451d87b270621979e2d5                     1.0   \n",
              "68756b4d60b6fac27789e85c2b63d1c6                     0.0   \n",
              "7ee2b92c5bcf6133b8132363e5bda960                     NaN   \n",
              "83caf5444f6b402335740cbd248bed34                     1.0   \n",
              "8ece433d541d9fac7fbd7c0c6082c7a6                     0.0   \n",
              "f006fae400158646e274820937d25de9                     NaN   \n",
              "fa849dabeb14a2800ad5130907fc5018                     NaN   \n",
              "\n",
              "track_id                          3gbBpTdY8lnQwqxNCcf795  \\\n",
              "user_id                                                    \n",
              "00dd7fde8040db835d917e077bb47e4b                     1.0   \n",
              "05422749e89268463444e00ddea1faf1                     1.0   \n",
              "139c408e52a497aac29753125d65b0ae                     NaN   \n",
              "1d7a6816a47881ad65c4d0fb65b49c41                     NaN   \n",
              "3196442b472af9bbb51e1628ca3c188a                     NaN   \n",
              "4398de6902abde3351347b048fcdc287                     1.0   \n",
              "47300b211a76740722648b21a438653a                     NaN   \n",
              "5974698501e05d24c6599fb5a849cc93                     NaN   \n",
              "6752faf971cd451d87b270621979e2d5                     1.0   \n",
              "68756b4d60b6fac27789e85c2b63d1c6                     NaN   \n",
              "7ee2b92c5bcf6133b8132363e5bda960                     NaN   \n",
              "83caf5444f6b402335740cbd248bed34                     1.0   \n",
              "8ece433d541d9fac7fbd7c0c6082c7a6                     NaN   \n",
              "f006fae400158646e274820937d25de9                     NaN   \n",
              "fa849dabeb14a2800ad5130907fc5018                     0.0   \n",
              "\n",
              "track_id                          3s4U7OHV7gnj42VV72eSZ6  \\\n",
              "user_id                                                    \n",
              "00dd7fde8040db835d917e077bb47e4b                     NaN   \n",
              "05422749e89268463444e00ddea1faf1                     1.0   \n",
              "139c408e52a497aac29753125d65b0ae                     NaN   \n",
              "1d7a6816a47881ad65c4d0fb65b49c41                     NaN   \n",
              "3196442b472af9bbb51e1628ca3c188a                     1.0   \n",
              "4398de6902abde3351347b048fcdc287                     1.0   \n",
              "47300b211a76740722648b21a438653a                     NaN   \n",
              "5974698501e05d24c6599fb5a849cc93                     NaN   \n",
              "6752faf971cd451d87b270621979e2d5                     1.0   \n",
              "68756b4d60b6fac27789e85c2b63d1c6                     0.0   \n",
              "7ee2b92c5bcf6133b8132363e5bda960                     NaN   \n",
              "83caf5444f6b402335740cbd248bed34                     NaN   \n",
              "8ece433d541d9fac7fbd7c0c6082c7a6                     NaN   \n",
              "f006fae400158646e274820937d25de9                     NaN   \n",
              "fa849dabeb14a2800ad5130907fc5018                     NaN   \n",
              "\n",
              "track_id                          4G8gkOterJn0Ywt6uhqbhp  \\\n",
              "user_id                                                    \n",
              "00dd7fde8040db835d917e077bb47e4b                     1.0   \n",
              "05422749e89268463444e00ddea1faf1                     1.0   \n",
              "139c408e52a497aac29753125d65b0ae                     1.0   \n",
              "1d7a6816a47881ad65c4d0fb65b49c41                     NaN   \n",
              "3196442b472af9bbb51e1628ca3c188a                     NaN   \n",
              "4398de6902abde3351347b048fcdc287                     1.0   \n",
              "47300b211a76740722648b21a438653a                     1.0   \n",
              "5974698501e05d24c6599fb5a849cc93                     1.0   \n",
              "6752faf971cd451d87b270621979e2d5                     1.0   \n",
              "68756b4d60b6fac27789e85c2b63d1c6                     NaN   \n",
              "7ee2b92c5bcf6133b8132363e5bda960                     NaN   \n",
              "83caf5444f6b402335740cbd248bed34                     1.0   \n",
              "8ece433d541d9fac7fbd7c0c6082c7a6                     NaN   \n",
              "f006fae400158646e274820937d25de9                     NaN   \n",
              "fa849dabeb14a2800ad5130907fc5018                     1.0   \n",
              "\n",
              "track_id                          4h8VwCb1MTGoLKueQ1WgbD  \\\n",
              "user_id                                                    \n",
              "00dd7fde8040db835d917e077bb47e4b                     1.0   \n",
              "05422749e89268463444e00ddea1faf1                     1.0   \n",
              "139c408e52a497aac29753125d65b0ae                     1.0   \n",
              "1d7a6816a47881ad65c4d0fb65b49c41                     NaN   \n",
              "3196442b472af9bbb51e1628ca3c188a                     NaN   \n",
              "4398de6902abde3351347b048fcdc287                     NaN   \n",
              "47300b211a76740722648b21a438653a                     NaN   \n",
              "5974698501e05d24c6599fb5a849cc93                     NaN   \n",
              "6752faf971cd451d87b270621979e2d5                     1.0   \n",
              "68756b4d60b6fac27789e85c2b63d1c6                     NaN   \n",
              "7ee2b92c5bcf6133b8132363e5bda960                     NaN   \n",
              "83caf5444f6b402335740cbd248bed34                     1.0   \n",
              "8ece433d541d9fac7fbd7c0c6082c7a6                     NaN   \n",
              "f006fae400158646e274820937d25de9                     NaN   \n",
              "fa849dabeb14a2800ad5130907fc5018                     NaN   \n",
              "\n",
              "track_id                          5FVd6KXrgO9B3JPmC8OPst  \\\n",
              "user_id                                                    \n",
              "00dd7fde8040db835d917e077bb47e4b                     0.0   \n",
              "05422749e89268463444e00ddea1faf1                     1.0   \n",
              "139c408e52a497aac29753125d65b0ae                     1.0   \n",
              "1d7a6816a47881ad65c4d0fb65b49c41                     1.0   \n",
              "3196442b472af9bbb51e1628ca3c188a                     1.0   \n",
              "4398de6902abde3351347b048fcdc287                     1.0   \n",
              "47300b211a76740722648b21a438653a                     0.0   \n",
              "5974698501e05d24c6599fb5a849cc93                     NaN   \n",
              "6752faf971cd451d87b270621979e2d5                     1.0   \n",
              "68756b4d60b6fac27789e85c2b63d1c6                     NaN   \n",
              "7ee2b92c5bcf6133b8132363e5bda960                     NaN   \n",
              "83caf5444f6b402335740cbd248bed34                     NaN   \n",
              "8ece433d541d9fac7fbd7c0c6082c7a6                     NaN   \n",
              "f006fae400158646e274820937d25de9                     1.0   \n",
              "fa849dabeb14a2800ad5130907fc5018                     NaN   \n",
              "\n",
              "track_id                          5ghIJDpPoe3CfHMGu71E6T  \\\n",
              "user_id                                                    \n",
              "00dd7fde8040db835d917e077bb47e4b                     1.0   \n",
              "05422749e89268463444e00ddea1faf1                     1.0   \n",
              "139c408e52a497aac29753125d65b0ae                     1.0   \n",
              "1d7a6816a47881ad65c4d0fb65b49c41                     0.0   \n",
              "3196442b472af9bbb51e1628ca3c188a                     1.0   \n",
              "4398de6902abde3351347b048fcdc287                     NaN   \n",
              "47300b211a76740722648b21a438653a                     1.0   \n",
              "5974698501e05d24c6599fb5a849cc93                     1.0   \n",
              "6752faf971cd451d87b270621979e2d5                     1.0   \n",
              "68756b4d60b6fac27789e85c2b63d1c6                     NaN   \n",
              "7ee2b92c5bcf6133b8132363e5bda960                     1.0   \n",
              "83caf5444f6b402335740cbd248bed34                     1.0   \n",
              "8ece433d541d9fac7fbd7c0c6082c7a6                     1.0   \n",
              "f006fae400158646e274820937d25de9                     1.0   \n",
              "fa849dabeb14a2800ad5130907fc5018                     1.0   \n",
              "\n",
              "track_id                          69kOkLUCkxIZYexIgSG8rq  \\\n",
              "user_id                                                    \n",
              "00dd7fde8040db835d917e077bb47e4b                     1.0   \n",
              "05422749e89268463444e00ddea1faf1                     1.0   \n",
              "139c408e52a497aac29753125d65b0ae                     1.0   \n",
              "1d7a6816a47881ad65c4d0fb65b49c41                     1.0   \n",
              "3196442b472af9bbb51e1628ca3c188a                     1.0   \n",
              "4398de6902abde3351347b048fcdc287                     1.0   \n",
              "47300b211a76740722648b21a438653a                     1.0   \n",
              "5974698501e05d24c6599fb5a849cc93                     NaN   \n",
              "6752faf971cd451d87b270621979e2d5                     1.0   \n",
              "68756b4d60b6fac27789e85c2b63d1c6                     NaN   \n",
              "7ee2b92c5bcf6133b8132363e5bda960                     NaN   \n",
              "83caf5444f6b402335740cbd248bed34                     NaN   \n",
              "8ece433d541d9fac7fbd7c0c6082c7a6                     NaN   \n",
              "f006fae400158646e274820937d25de9                     1.0   \n",
              "fa849dabeb14a2800ad5130907fc5018                     0.0   \n",
              "\n",
              "track_id                          6GmUVqe73u5YRfUUynZK6I  \\\n",
              "user_id                                                    \n",
              "00dd7fde8040db835d917e077bb47e4b                     1.0   \n",
              "05422749e89268463444e00ddea1faf1                     1.0   \n",
              "139c408e52a497aac29753125d65b0ae                     1.0   \n",
              "1d7a6816a47881ad65c4d0fb65b49c41                     NaN   \n",
              "3196442b472af9bbb51e1628ca3c188a                     NaN   \n",
              "4398de6902abde3351347b048fcdc287                     1.0   \n",
              "47300b211a76740722648b21a438653a                     NaN   \n",
              "5974698501e05d24c6599fb5a849cc93                     1.0   \n",
              "6752faf971cd451d87b270621979e2d5                     1.0   \n",
              "68756b4d60b6fac27789e85c2b63d1c6                     NaN   \n",
              "7ee2b92c5bcf6133b8132363e5bda960                     NaN   \n",
              "83caf5444f6b402335740cbd248bed34                     1.0   \n",
              "8ece433d541d9fac7fbd7c0c6082c7a6                     NaN   \n",
              "f006fae400158646e274820937d25de9                     NaN   \n",
              "fa849dabeb14a2800ad5130907fc5018                     NaN   \n",
              "\n",
              "track_id                          7oK9VyNzrYvRFo7nQEYkWN  \n",
              "user_id                                                   \n",
              "00dd7fde8040db835d917e077bb47e4b                     1.0  \n",
              "05422749e89268463444e00ddea1faf1                     1.0  \n",
              "139c408e52a497aac29753125d65b0ae                     1.0  \n",
              "1d7a6816a47881ad65c4d0fb65b49c41                     NaN  \n",
              "3196442b472af9bbb51e1628ca3c188a                     NaN  \n",
              "4398de6902abde3351347b048fcdc287                     1.0  \n",
              "47300b211a76740722648b21a438653a                     1.0  \n",
              "5974698501e05d24c6599fb5a849cc93                     1.0  \n",
              "6752faf971cd451d87b270621979e2d5                     1.0  \n",
              "68756b4d60b6fac27789e85c2b63d1c6                     1.0  \n",
              "7ee2b92c5bcf6133b8132363e5bda960                     NaN  \n",
              "83caf5444f6b402335740cbd248bed34                     1.0  \n",
              "8ece433d541d9fac7fbd7c0c6082c7a6                     1.0  \n",
              "f006fae400158646e274820937d25de9                     1.0  \n",
              "fa849dabeb14a2800ad5130907fc5018                     NaN  "
            ]
          },
          "execution_count": 15,
          "metadata": {},
          "output_type": "execute_result"
        }
      ],
      "source": [
        "tabular_preview(iteractins_, 10)"
      ]
    },
    {
      "cell_type": "code",
      "execution_count": 16,
      "metadata": {
        "id": "MVvZ9NL81kEq"
      },
      "outputs": [],
      "source": [
        "def create_dataset(ratings, top=None):\n",
        "    if top is not None:\n",
        "        ratings.groupby('user_id')['rating'].count()\n",
        "\n",
        "    unique_users = ratings.user_id.unique()\n",
        "    user_to_index = {old: new for new, old in enumerate(unique_users)}\n",
        "    new_users = ratings.user_id.map(user_to_index)\n",
        "\n",
        "    unique_tracks = ratings.track_id.unique()\n",
        "    track_to_index = {old: new for new, old in enumerate(unique_tracks)}\n",
        "    new_track = ratings.track_id.map(track_to_index)\n",
        "\n",
        "    n_users = unique_users.shape[0]\n",
        "    n_tracks = unique_tracks.shape[0]\n",
        "\n",
        "    X = pd.DataFrame({'user_id': new_users, 'movie_id': new_track})\n",
        "    y = ratings['rating'].astype(np.float32)\n",
        "    return (n_users, n_tracks), (X, y), (user_to_index, track_to_index)"
      ]
    },
    {
      "cell_type": "code",
      "execution_count": 17,
      "metadata": {
        "colab": {
          "base_uri": "https://localhost:8080/"
        },
        "id": "DPoHjSeH1kEq",
        "outputId": "f89e4b21-5ef3-4d0d-fa30-fc0d4ae397e6"
      },
      "outputs": [
        {
          "name": "stdout",
          "output_type": "stream",
          "text": [
            "Embeddings: 5429 users, 12067 tracks\n",
            "Dataset shape: (5442577, 2)\n",
            "Target shape: (5442577,)\n"
          ]
        }
      ],
      "source": [
        "(n, m), (X, y), (user_to_index, track_to_index) = create_dataset(iteractins_)\n",
        "print(f'Embeddings: {n} users, {m} tracks')\n",
        "print(f'Dataset shape: {X.shape}')\n",
        "print(f'Target shape: {y.shape}')"
      ]
    },
    {
      "cell_type": "code",
      "execution_count": 18,
      "metadata": {
        "id": "UZtgUGtH1kEq"
      },
      "outputs": [],
      "source": [
        "class ReviewsIterator:\n",
        "\n",
        "    def __init__(self, X, y, batch_size=32, shuffle=True):\n",
        "        X, y = np.asarray(X), np.asarray(y)\n",
        "\n",
        "        if shuffle:\n",
        "            index = np.random.permutation(X.shape[0])\n",
        "            X, y = X[index], y[index]\n",
        "\n",
        "        self.X = X\n",
        "        self.y = y\n",
        "        self.batch_size = batch_size\n",
        "        self.shuffle = shuffle\n",
        "        self.n_batches = int(math.ceil(X.shape[0] // batch_size))\n",
        "        self._current = 0\n",
        "\n",
        "    def __iter__(self):\n",
        "        return self\n",
        "\n",
        "    def __next__(self):\n",
        "        return self.next()\n",
        "\n",
        "    def next(self):\n",
        "        if self._current >= self.n_batches:\n",
        "            raise StopIteration()\n",
        "        k = self._current\n",
        "        self._current += 1\n",
        "        bs = self.batch_size\n",
        "        return self.X[k*bs:(k + 1)*bs], self.y[k*bs:(k + 1)*bs]"
      ]
    },
    {
      "cell_type": "code",
      "execution_count": 19,
      "metadata": {
        "id": "Wv_k4P8S1kEr"
      },
      "outputs": [],
      "source": [
        "def batches(X, y, bs=32, shuffle=True):\n",
        "    for xb, yb in ReviewsIterator(X, y, bs, shuffle):\n",
        "        xb = torch.LongTensor(xb)\n",
        "        yb = torch.FloatTensor(yb)\n",
        "        yield xb, yb.view(-1, 1)"
      ]
    },
    {
      "cell_type": "code",
      "execution_count": 20,
      "metadata": {
        "colab": {
          "base_uri": "https://localhost:8080/"
        },
        "id": "s7zZ-fhV1kEr",
        "outputId": "f8df04f8-d619-4d2e-e9dd-164218052aec"
      },
      "outputs": [
        {
          "name": "stdout",
          "output_type": "stream",
          "text": [
            "tensor([[ 1598, 11036],\n",
            "        [ 5354,  2701],\n",
            "        [ 2562, 10375],\n",
            "        [ 4948,  8881]])\n",
            "tensor([[0.],\n",
            "        [0.],\n",
            "        [0.],\n",
            "        [1.]])\n"
          ]
        }
      ],
      "source": [
        "for x_batch, y_batch in batches(X, y, bs=4):\n",
        "    print(x_batch)\n",
        "    print(y_batch)\n",
        "    break"
      ]
    },
    {
      "cell_type": "code",
      "execution_count": 21,
      "metadata": {
        "id": "LbejdpiX1kEr"
      },
      "outputs": [],
      "source": [
        "class EmbeddingNet(nn.Module):\n",
        "    \"\"\"\n",
        "    Creates a dense network with embedding layers.\n",
        "\n",
        "    Args:\n",
        "\n",
        "        n_users:\n",
        "            Number of unique users in the dataset.\n",
        "\n",
        "        n_movies:\n",
        "            Number of unique movies in the dataset.\n",
        "\n",
        "        n_factors:\n",
        "            Number of columns in the embeddings matrix.\n",
        "\n",
        "        embedding_dropout:\n",
        "            Dropout rate to apply right after embeddings layer.\n",
        "\n",
        "        hidden:\n",
        "            A single integer or a list of integers defining the number of\n",
        "            units in hidden layer(s).\n",
        "\n",
        "        dropouts:\n",
        "            A single integer or a list of integers defining the dropout\n",
        "            layers rates applyied right after each of hidden layers.\n",
        "\n",
        "    \"\"\"\n",
        "    def __init__(self, n_users, n_movies,\n",
        "                 n_factors=50, embedding_dropout=0.02,\n",
        "                 hidden=10, dropouts=0.2):\n",
        "\n",
        "        super().__init__()\n",
        "        hidden = get_list(hidden)\n",
        "        dropouts = get_list(dropouts)\n",
        "        n_last = hidden[-1]\n",
        "\n",
        "        def gen_layers(n_in):\n",
        "            \"\"\"\n",
        "            A generator that yields a sequence of hidden layers and\n",
        "            their activations/dropouts.\n",
        "\n",
        "            Note that the function captures `hidden` and `dropouts`\n",
        "            values from the outer scope.\n",
        "            \"\"\"\n",
        "            nonlocal hidden, dropouts\n",
        "            assert len(dropouts) <= len(hidden)\n",
        "\n",
        "            for n_out, rate in zip_longest(hidden, dropouts):\n",
        "                yield nn.Linear(n_in, n_out)\n",
        "                yield nn.ReLU()\n",
        "                if rate is not None and rate > 0.:\n",
        "                    yield nn.Dropout(rate)\n",
        "                n_in = n_out\n",
        "\n",
        "        self.u = nn.Embedding(n_users, n_factors)\n",
        "        self.m = nn.Embedding(n_movies, n_factors)\n",
        "        self.drop = nn.Dropout(embedding_dropout)\n",
        "        self.hidden = nn.Sequential(*list(gen_layers(n_factors * 2)))\n",
        "        self.fc = nn.Linear(n_last, 1)\n",
        "        self._init()\n",
        "\n",
        "    def forward(self, users, movies, minmax=None):\n",
        "        features = torch.cat([self.u(users), self.m(movies)], dim=1)\n",
        "        x = self.drop(features)\n",
        "        x = self.hidden(x)\n",
        "        out = torch.sigmoid(self.fc(x))\n",
        "        if minmax is not None:\n",
        "            min_rating, max_rating = minmax\n",
        "            out = out*(max_rating - min_rating + 1) + min_rating - 0.5\n",
        "        return out\n",
        "\n",
        "    def _init(self):\n",
        "        \"\"\"\n",
        "        Setup embeddings and hidden layers with reasonable initial values.\n",
        "        \"\"\"\n",
        "\n",
        "        def init(m):\n",
        "            if type(m) == nn.Linear:\n",
        "                torch.nn.init.xavier_uniform_(m.weight)\n",
        "                m.bias.data.fill_(0.01)\n",
        "\n",
        "        self.u.weight.data.uniform_(-0.05, 0.05)\n",
        "        self.m.weight.data.uniform_(-0.05, 0.05)\n",
        "        self.hidden.apply(init)\n",
        "        init(self.fc)\n",
        "\n",
        "\n",
        "def get_list(n):\n",
        "    if isinstance(n, (int, float)):\n",
        "        return [n]\n",
        "    elif hasattr(n, '__iter__'):\n",
        "        return list(n)\n",
        "    raise TypeError('layers configuraiton should be a single number or a list of numbers')"
      ]
    },
    {
      "cell_type": "code",
      "execution_count": 22,
      "metadata": {
        "colab": {
          "base_uri": "https://localhost:8080/"
        },
        "id": "Mm4uL4Ib1kEr",
        "outputId": "36f76b72-8aaa-4164-a0fd-70b4f86f3033"
      },
      "outputs": [
        {
          "data": {
            "text/plain": [
              "EmbeddingNet(\n",
              "  (u): Embedding(5429, 150)\n",
              "  (m): Embedding(12067, 150)\n",
              "  (drop): Dropout(p=0.02, inplace=False)\n",
              "  (hidden): Sequential(\n",
              "    (0): Linear(in_features=300, out_features=100, bias=True)\n",
              "    (1): ReLU()\n",
              "    (2): Dropout(p=0.25, inplace=False)\n",
              "    (3): Linear(in_features=100, out_features=200, bias=True)\n",
              "    (4): ReLU()\n",
              "    (5): Dropout(p=0.5, inplace=False)\n",
              "    (6): Linear(in_features=200, out_features=300, bias=True)\n",
              "    (7): ReLU()\n",
              "  )\n",
              "  (fc): Linear(in_features=300, out_features=1, bias=True)\n",
              ")"
            ]
          },
          "execution_count": 22,
          "metadata": {},
          "output_type": "execute_result"
        }
      ],
      "source": [
        "EmbeddingNet(n, m, n_factors=150, hidden=[100, 200, 300], dropouts=[0.25, 0.5])"
      ]
    },
    {
      "cell_type": "code",
      "execution_count": 23,
      "metadata": {
        "id": "c0OyJT2w1kEr"
      },
      "outputs": [],
      "source": [
        "class CyclicLR(_LRScheduler):\n",
        "\n",
        "    def __init__(self, optimizer, schedule, last_epoch=-1):\n",
        "        assert callable(schedule)\n",
        "        self.schedule = schedule\n",
        "        super().__init__(optimizer, last_epoch)\n",
        "\n",
        "    def get_lr(self):\n",
        "        return [self.schedule(self.last_epoch, lr) for lr in self.base_lrs]"
      ]
    },
    {
      "cell_type": "code",
      "execution_count": 24,
      "metadata": {
        "id": "2xrvLdJG1kEr"
      },
      "outputs": [],
      "source": [
        "def triangular(step_size, max_lr, method='triangular', gamma=0.99):\n",
        "\n",
        "    def scheduler(epoch, base_lr):\n",
        "        period = 2 * step_size\n",
        "        cycle = math.floor(1 + epoch/period)\n",
        "        x = abs(epoch/step_size - 2*cycle + 1)\n",
        "        delta = (max_lr - base_lr)*max(0, (1 - x))\n",
        "\n",
        "        if method == 'triangular':\n",
        "            pass  # we've already done\n",
        "        elif method == 'triangular2':\n",
        "            delta /= float(2 ** (cycle - 1))\n",
        "        elif method == 'exp_range':\n",
        "            delta *= (gamma**epoch)\n",
        "        else:\n",
        "            raise ValueError('unexpected method: %s' % method)\n",
        "\n",
        "        return base_lr + delta\n",
        "\n",
        "    return scheduler"
      ]
    },
    {
      "cell_type": "code",
      "execution_count": 25,
      "metadata": {
        "id": "vxrFKtOI1kEs"
      },
      "outputs": [],
      "source": [
        "def cosine(t_max, eta_min=0):\n",
        "\n",
        "    def scheduler(epoch, base_lr):\n",
        "        t = epoch % t_max\n",
        "        return eta_min + (base_lr - eta_min)*(1 + math.cos(math.pi*t/t_max))/2\n",
        "\n",
        "    return scheduler"
      ]
    },
    {
      "cell_type": "code",
      "execution_count": 26,
      "metadata": {
        "id": "kqGHZF6r1kEs"
      },
      "outputs": [],
      "source": [
        "def plot_lr(schedule):\n",
        "    ts = list(range(1000))\n",
        "    y = [schedule(t, 0.001) for t in ts]\n",
        "    plt.plot(ts, y)"
      ]
    },
    {
      "cell_type": "code",
      "execution_count": 27,
      "metadata": {
        "id": "aYLMCfW11kEs"
      },
      "outputs": [],
      "source": [
        "def set_random_seed(state=1):\n",
        "    gens = (np.random.seed, torch.manual_seed, torch.cuda.manual_seed)\n",
        "    for set_state in gens:\n",
        "        set_state(state)"
      ]
    },
    {
      "cell_type": "code",
      "execution_count": 28,
      "metadata": {
        "id": "bzIfBf1Y1kEs"
      },
      "outputs": [],
      "source": [
        "RANDOM_STATE = 1\n",
        "set_random_seed(RANDOM_STATE)\n",
        "\n",
        "\n",
        "X_train, X_valid, y_train, y_valid = train_test_split(X, y, test_size=0.1, random_state=RANDOM_STATE)\n",
        "datasets = {'train': (X_train, y_train), 'val': (X_valid, y_valid)}\n",
        "dataset_sizes = {'train': len(X_train), 'val': len(X_valid)}"
      ]
    },
    {
      "cell_type": "code",
      "execution_count": 29,
      "metadata": {
        "colab": {
          "base_uri": "https://localhost:8080/"
        },
        "id": "Ru0q_4nU1kEs",
        "outputId": "021a3b41-917f-43a7-ebf4-aba4e2c94f51"
      },
      "outputs": [
        {
          "data": {
            "text/plain": [
              "(0.0, 1.0)"
            ]
          },
          "execution_count": 29,
          "metadata": {},
          "output_type": "execute_result"
        }
      ],
      "source": [
        "minmax = float(iteractins_.rating.min()), float(iteractins_.rating.max())\n",
        "minmax"
      ]
    },
    {
      "cell_type": "code",
      "execution_count": 30,
      "metadata": {
        "id": "hnJkTfH71kEs"
      },
      "outputs": [],
      "source": [
        "net = EmbeddingNet(\n",
        "    n_users=n, n_movies=m,\n",
        "    n_factors=150, hidden=[500, 500, 500],\n",
        "    embedding_dropout=0.05, dropouts=[0.5, 0.5, 0.25])"
      ]
    },
    {
      "cell_type": "code",
      "execution_count": 31,
      "metadata": {
        "id": "qBhcYVzV1kEs"
      },
      "outputs": [],
      "source": [
        "lr = 1e-3\n",
        "wd = 1e-5\n",
        "bs = 2000\n",
        "n_epochs = 100\n",
        "patience = 10\n",
        "no_improvements = 0\n",
        "best_loss = np.inf\n",
        "best_weights = None\n",
        "history = []\n",
        "lr_history = []\n",
        "\n",
        "device = torch.device('cuda:0' if torch.cuda.is_available() else 'cpu')\n",
        "\n",
        "net.to(device)\n",
        "criterion = nn.MSELoss(reduction='sum')\n",
        "optimizer = optim.Adam(net.parameters(), lr=lr, weight_decay=wd)\n",
        "iterations_per_epoch = int(math.ceil(dataset_sizes['train'] // bs))\n",
        "scheduler = CyclicLR(optimizer, cosine(t_max=iterations_per_epoch * 2, eta_min=lr/10))"
      ]
    },
    {
      "cell_type": "code",
      "execution_count": 32,
      "metadata": {
        "colab": {
          "base_uri": "https://localhost:8080/"
        },
        "id": "FJ6q8Gqf1kEs",
        "outputId": "2138e7d4-0788-4503-d8f9-206dc020032e"
      },
      "outputs": [
        {
          "name": "stderr",
          "output_type": "stream",
          "text": [
            "/usr/local/lib/python3.10/dist-packages/torch/optim/lr_scheduler.py:139: UserWarning: Detected call of `lr_scheduler.step()` before `optimizer.step()`. In PyTorch 1.1.0 and later, you should call them in the opposite order: `optimizer.step()` before `lr_scheduler.step()`.  Failure to do this will result in PyTorch skipping the first value of the learning rate schedule. See more details at https://pytorch.org/docs/stable/optim.html#how-to-adjust-learning-rate\n",
            "  warnings.warn(\"Detected call of `lr_scheduler.step()` before `optimizer.step()`. \"\n"
          ]
        },
        {
          "name": "stdout",
          "output_type": "stream",
          "text": [
            "loss improvement on epoch: 1\n",
            "[001/100] train: 0.1123 - val: 0.1070\n",
            "loss improvement on epoch: 2\n",
            "[002/100] train: 0.1024 - val: 0.1021\n",
            "loss improvement on epoch: 3\n",
            "[003/100] train: 0.0996 - val: 0.0957\n",
            "loss improvement on epoch: 4\n",
            "[004/100] train: 0.0891 - val: 0.0911\n",
            "loss improvement on epoch: 5\n",
            "[005/100] train: 0.0886 - val: 0.0886\n",
            "loss improvement on epoch: 6\n",
            "[006/100] train: 0.0806 - val: 0.0856\n",
            "loss improvement on epoch: 7\n",
            "[007/100] train: 0.0820 - val: 0.0846\n",
            "loss improvement on epoch: 8\n",
            "[008/100] train: 0.0747 - val: 0.0824\n",
            "[009/100] train: 0.0772 - val: 0.0825\n",
            "loss improvement on epoch: 10\n",
            "[010/100] train: 0.0706 - val: 0.0811\n",
            "loss improvement on epoch: 11\n",
            "[011/100] train: 0.0736 - val: 0.0809\n",
            "loss improvement on epoch: 12\n",
            "[012/100] train: 0.0672 - val: 0.0798\n",
            "[013/100] train: 0.0707 - val: 0.0800\n",
            "loss improvement on epoch: 14\n",
            "[014/100] train: 0.0646 - val: 0.0796\n",
            "[015/100] train: 0.0682 - val: 0.0797\n",
            "loss improvement on epoch: 16\n",
            "[016/100] train: 0.0622 - val: 0.0794\n",
            "[017/100] train: 0.0660 - val: 0.0795\n",
            "[018/100] train: 0.0602 - val: 0.0794\n",
            "[019/100] train: 0.0641 - val: 0.0800\n",
            "[020/100] train: 0.0585 - val: 0.0798\n",
            "loss improvement on epoch: 21\n",
            "[021/100] train: 0.0624 - val: 0.0790\n",
            "loss improvement on epoch: 22\n",
            "[022/100] train: 0.0570 - val: 0.0788\n",
            "[023/100] train: 0.0609 - val: 0.0791\n",
            "[024/100] train: 0.0556 - val: 0.0800\n",
            "[025/100] train: 0.0595 - val: 0.0788\n",
            "[026/100] train: 0.0543 - val: 0.0799\n",
            "[027/100] train: 0.0582 - val: 0.0793\n",
            "[028/100] train: 0.0532 - val: 0.0801\n",
            "[029/100] train: 0.0572 - val: 0.0797\n",
            "[030/100] train: 0.0521 - val: 0.0797\n",
            "[031/100] train: 0.0560 - val: 0.0796\n",
            "[032/100] train: 0.0512 - val: 0.0805\n",
            "early stopping after epoch 032\n"
          ]
        }
      ],
      "source": [
        "for epoch in range(n_epochs):\n",
        "    stats = {'epoch': epoch + 1, 'total': n_epochs}\n",
        "\n",
        "    for phase in ('train', 'val'):\n",
        "        if phase == 'train':\n",
        "          training = True\n",
        "        else:\n",
        "          training = False\n",
        "\n",
        "        running_loss = 0\n",
        "        n_batches = 0\n",
        "\n",
        "        for batch in batches(*datasets[phase], shuffle=training, bs=bs):\n",
        "            x_batch, y_batch = [b.to(device) for b in batch]\n",
        "            optimizer.zero_grad()\n",
        "\n",
        "            #print(x_batch[:,0])\n",
        "\n",
        "\n",
        "            # compute gradients only during 'train' phase\n",
        "            with torch.set_grad_enabled(training):\n",
        "                outputs = net(x_batch[:,0], x_batch[:,1], minmax)\n",
        "                loss = criterion(outputs, y_batch)\n",
        "\n",
        "                # don't update weights and rates when in 'val' phase\n",
        "                if training:\n",
        "                    scheduler.step()\n",
        "                    loss.backward()\n",
        "                    optimizer.step()\n",
        "                    lr_history.extend(scheduler.get_lr())\n",
        "\n",
        "            running_loss += loss.item()\n",
        "\n",
        "        epoch_loss = running_loss / dataset_sizes[phase]\n",
        "        stats[phase] = epoch_loss\n",
        "\n",
        "        # early stopping: save weights of the best model so far\n",
        "        if phase == 'val':\n",
        "            if epoch_loss < best_loss:\n",
        "                print('loss improvement on epoch: %d' % (epoch + 1))\n",
        "                best_loss = epoch_loss\n",
        "                best_weights = copy.deepcopy(net.state_dict())\n",
        "                no_improvements = 0\n",
        "            else:\n",
        "                no_improvements += 1\n",
        "\n",
        "    history.append(stats)\n",
        "    print('[{epoch:03d}/{total:03d}] train: {train:.4f} - val: {val:.4f}'.format(**stats))\n",
        "    if no_improvements >= patience:\n",
        "        print('early stopping after epoch {epoch:03d}'.format(**stats))\n",
        "        break"
      ]
    },
    {
      "cell_type": "code",
      "execution_count": 33,
      "metadata": {
        "colab": {
          "base_uri": "https://localhost:8080/",
          "height": 449
        },
        "id": "8gPHnREM1kEs",
        "outputId": "ad685141-9712-4a15-e9da-ce70bd795b7b"
      },
      "outputs": [
        {
          "data": {
            "image/png": "[encoded data removed]",
            "text/plain": [
              "<Figure size 640x480 with 1 Axes>"
            ]
          },
          "metadata": {},
          "output_type": "display_data"
        }
      ],
      "source": [
        "ax = pd.DataFrame(history).drop(columns='total').plot(x='epoch')"
      ]
    },
    {
      "cell_type": "code",
      "execution_count": 34,
      "metadata": {
        "colab": {
          "base_uri": "https://localhost:8080/",
          "height": 430
        },
        "id": "Qr4XUmGx1kEt",
        "outputId": "ea92ae2b-bc0b-48bc-c33c-9fc871e5c917"
      },
      "outputs": [
        {
          "data": {
            "image/png": "[encoded data removed]",
            "text/plain": [
              "<Figure size 640x480 with 1 Axes>"
            ]
          },
          "metadata": {},
          "output_type": "display_data"
        }
      ],
      "source": [
        "_ = plt.plot(lr_history[:2*iterations_per_epoch])\n"
      ]
    },
    {
      "cell_type": "code",
      "execution_count": 35,
      "metadata": {
        "colab": {
          "base_uri": "https://localhost:8080/"
        },
        "id": "iPkAwhpw1kEt",
        "outputId": "9768a784-1436-4a75-e11e-722bfc56cbf0"
      },
      "outputs": [
        {
          "data": {
            "text/plain": [
              "<All keys matched successfully>"
            ]
          },
          "execution_count": 35,
          "metadata": {},
          "output_type": "execute_result"
        }
      ],
      "source": [
        "net.load_state_dict(best_weights)\n"
      ]
    },
    {
      "cell_type": "code",
      "execution_count": 36,
      "metadata": {
        "id": "BWTizis_1kEt"
      },
      "outputs": [],
      "source": [
        "groud_truth, predictions, groud_iteractions = [], [], []\n",
        "\n",
        "with torch.no_grad():\n",
        "    for batch in batches(*datasets['val'], shuffle=False, bs=bs):\n",
        "        x_batch, y_batch = [b.to(device) for b in batch]\n",
        "        outputs = net(x_batch[:, 0], x_batch[:, 1], minmax)\n",
        "        groud_truth.extend(y_batch.tolist())\n",
        "        groud_iteractions.extend(x_batch.tolist())\n",
        "        predictions.extend(outputs.tolist())\n",
        "\n",
        "groud_truth = np.asarray(groud_truth).ravel()\n",
        "predictions = np.asarray(predictions).ravel()"
      ]
    },
    {
      "cell_type": "code",
      "execution_count": 37,
      "metadata": {
        "colab": {
          "base_uri": "https://localhost:8080/"
        },
        "id": "Whbohmbr1kEt",
        "outputId": "324d2380-a62b-4756-f7d8-889783127fbb"
      },
      "outputs": [
        {
          "name": "stdout",
          "output_type": "stream",
          "text": [
            "Final RMSE: 0.2812\n"
          ]
        }
      ],
      "source": [
        "final_loss = np.sqrt(np.mean((predictions - groud_truth)**2))\n",
        "print(f'Final RMSE: {final_loss:.4f}')"
      ]
    },
    {
      "cell_type": "code",
      "execution_count": 38,
      "metadata": {
        "id": "M0cC50YI7gZ8"
      },
      "outputs": [],
      "source": [
        "result = pd.DataFrame(np.array(groud_iteractions), columns=[\"users\", \"items\"])"
      ]
    },
    {
      "cell_type": "code",
      "execution_count": 39,
      "metadata": {
        "id": "ma90iwYwYReK"
      },
      "outputs": [],
      "source": [
        "result['actual'] = groud_truth\n",
        "result['predict'] = predictions\n",
        "result = result.sort_values('predict', ascending=False)"
      ]
    },
    {
      "cell_type": "code",
      "execution_count": 40,
      "metadata": {
        "id": "-qun-2P67zYM"
      },
      "outputs": [],
      "source": [
        "result['top'] = result.groupby(['users']).aggregate({'items':\"cumcount\"})"
      ]
    },
    {
      "cell_type": "code",
      "execution_count": 41,
      "metadata": {
        "colab": {
          "base_uri": "https://localhost:8080/"
        },
        "id": "ZJsbaKmuZB_x",
        "outputId": "ba0d467f-f5d7-43bd-d1ef-f9c0fd1b6cf3"
      },
      "outputs": [
        {
          "data": {
            "text/plain": [
              "0.5696260821514091"
            ]
          },
          "execution_count": 41,
          "metadata": {},
          "output_type": "execute_result"
        }
      ],
      "source": [
        "result_agg = result[result['top'] < 10].groupby(['users']).aggregate({\"actual\":\"sum\", \"predict\":\"count\"})\n",
        "(result_agg['actual']/result_agg['predict']).mean()"
      ]
    },
    {
      "cell_type": "code",
      "execution_count": 42,
      "metadata": {
        "colab": {
          "base_uri": "https://localhost:8080/",
          "height": 466
        },
        "id": "H2AJUGwJ7K2Z",
        "outputId": "043ceb57-c9ae-4b54-8ce3-0d6fa50c245d"
      },
      "outputs": [
        {
          "data": {
            "text/plain": [
              "<matplotlib.legend.Legend at 0x7f022ea69a80>"
            ]
          },
          "execution_count": 42,
          "metadata": {},
          "output_type": "execute_result"
        },
        {
          "data": {
            "image/png": "[encoded data removed]",
            "text/plain": [
              "<Figure size 640x480 with 1 Axes>"
            ]
          },
          "metadata": {},
          "output_type": "display_data"
        }
      ],
      "source": [
        "import seaborn as sns\n",
        "sns.histplot(result[result['actual'] == 1]['predict'], label=\"yes\")\n",
        "sns.histplot(result[result['actual'] == 0]['predict'], label=\"no\")\n",
        "plt.legend()"
      ]
    },
    {
      "cell_type": "code",
      "execution_count": 178,
      "metadata": {
        "colab": {
          "base_uri": "https://localhost:8080/"
        },
        "id": "MeVBWDRklqEL",
        "outputId": "d62fe1ab-8f9a-47de-984a-224e127550a4"
      },
      "outputs": [
        {
          "data": {
            "text/plain": [
              "5429"
            ]
          },
          "execution_count": 178,
          "metadata": {},
          "output_type": "execute_result"
        }
      ],
      "source": [
        "datasets['val'][0][\"user_id\"].nunique()"
      ]
    },
    {
      "cell_type": "code",
      "execution_count": 179,
      "metadata": {
        "id": "KhXr_c7Dlz0h"
      },
      "outputs": [],
      "source": [
        "datasets_val_unsers = pd.DataFrame(datasets['val'][0][\"user_id\"].unique()).sample(frac=0.02)\n",
        "test_songs = datasets_val_unsers.merge(pd.DataFrame(track_to_index.values()), how='cross')\n",
        "seen = datasets['train'][0][datasets['train'][0]['user_id'].isin(test_songs['0_x'].unique()) & datasets['train'][0].index.isin(datasets['train'][1][datasets['train'][1] == 1].index)]"
      ]
    },
    {
      "cell_type": "code",
      "execution_count": 180,
      "metadata": {
        "id": "Fcf0wsIuHp_N"
      },
      "outputs": [],
      "source": [
        "test_songs = list(test_songs.values)\n",
        "seen = list(seen.values)\n",
        "test_songs = pd.DataFrame(test_songs + seen).drop_duplicates(keep=False)"
      ]
    },
    {
      "cell_type": "code",
      "execution_count": 181,
      "metadata": {
        "id": "y9W6gwt1GOBK"
      },
      "outputs": [],
      "source": [
        "test_songs.columns = ['user_id','track_id']"
      ]
    },
    {
      "cell_type": "code",
      "execution_count": 182,
      "metadata": {
        "colab": {
          "base_uri": "https://localhost:8080/",
          "height": 206
        },
        "id": "zTrISpvAGZkk",
        "outputId": "04ac4bd3-3d28-4fe8-a8ac-179632a24dd7"
      },
      "outputs": [
        {
          "data": {
            "text/html": [
              "\n",
              "  <div id=\"df-7911f397-84eb-451c-9e2c-a8343b2af568\">\n",
              "    <div class=\"colab-df-container\">\n",
              "      <div>\n",
              "<style scoped>\n",
              "    .dataframe tbody tr th:only-of-type {\n",
              "        vertical-align: middle;\n",
              "    }\n",
              "\n",
              "    .dataframe tbody tr th {\n",
              "        vertical-align: top;\n",
              "    }\n",
              "\n",
              "    .dataframe thead th {\n",
              "        text-align: right;\n",
              "    }\n",
              "</style>\n",
              "<table border=\"1\" class=\"dataframe\">\n",
              "  <thead>\n",
              "    <tr style=\"text-align: right;\">\n",
              "      <th></th>\n",
              "      <th>user_id</th>\n",
              "      <th>track_id</th>\n",
              "    </tr>\n",
              "  </thead>\n",
              "  <tbody>\n",
              "    <tr>\n",
              "      <th>0</th>\n",
              "      <td>66</td>\n",
              "      <td>0</td>\n",
              "    </tr>\n",
              "    <tr>\n",
              "      <th>1</th>\n",
              "      <td>66</td>\n",
              "      <td>1</td>\n",
              "    </tr>\n",
              "    <tr>\n",
              "      <th>2</th>\n",
              "      <td>66</td>\n",
              "      <td>2</td>\n",
              "    </tr>\n",
              "    <tr>\n",
              "      <th>3</th>\n",
              "      <td>66</td>\n",
              "      <td>3</td>\n",
              "    </tr>\n",
              "    <tr>\n",
              "      <th>4</th>\n",
              "      <td>66</td>\n",
              "      <td>4</td>\n",
              "    </tr>\n",
              "  </tbody>\n",
              "</table>\n",
              "</div>\n",
              "      <button class=\"colab-df-convert\" onclick=\"convertToInteractive('df-7911f397-84eb-451c-9e2c-a8343b2af568')\"\n",
              "              title=\"Convert this dataframe to an interactive table.\"\n",
              "              style=\"display:none;\">\n",
              "        \n",
              "  <svg xmlns=\"http://www.w3.org/2000/svg\" height=\"24px\"viewBox=\"0 0 24 24\"\n",
              "       width=\"24px\">\n",
              "    <path d=\"M0 0h24v24H0V0z\" fill=\"none\"/>\n",
              "    <path d=\"M18.56 5.44l.94 2.06.94-2.06 2.06-.94-2.06-.94-.94-2.06-.94 2.06-2.06.94zm-11 1L8.5 8.5l.94-2.06 2.06-.94-2.06-.94L8.5 2.5l-.94 2.06-2.06.94zm10 10l.94 2.06.94-2.06 2.06-.94-2.06-.94-.94-2.06-.94 2.06-2.06.94z\"/><path d=\"M17.41 7.96l-1.37-1.37c-.4-.4-.92-.59-1.43-.59-.52 0-1.04.2-1.43.59L10.3 9.45l-7.72 7.72c-.78.78-.78 2.05 0 2.83L4 21.41c.39.39.9.59 1.41.59.51 0 1.02-.2 1.41-.59l7.78-7.78 2.81-2.81c.8-.78.8-2.07 0-2.86zM5.41 20L4 18.59l7.72-7.72 1.47 1.35L5.41 20z\"/>\n",
              "  </svg>\n",
              "      </button>\n",
              "      \n",
              "  <style>\n",
              "    .colab-df-container {\n",
              "      display:flex;\n",
              "      flex-wrap:wrap;\n",
              "      gap: 12px;\n",
              "    }\n",
              "\n",
              "    .colab-df-convert {\n",
              "      background-color: #E8F0FE;\n",
              "      border: none;\n",
              "      border-radius: 50%;\n",
              "      cursor: pointer;\n",
              "      display: none;\n",
              "      fill: #1967D2;\n",
              "      height: 32px;\n",
              "      padding: 0 0 0 0;\n",
              "      width: 32px;\n",
              "    }\n",
              "\n",
              "    .colab-df-convert:hover {\n",
              "      background-color: #E2EBFA;\n",
              "      box-shadow: 0px 1px 2px rgba(60, 64, 67, 0.3), 0px 1px 3px 1px rgba(60, 64, 67, 0.15);\n",
              "      fill: #174EA6;\n",
              "    }\n",
              "\n",
              "    [theme=dark] .colab-df-convert {\n",
              "      background-color: #3B4455;\n",
              "      fill: #D2E3FC;\n",
              "    }\n",
              "\n",
              "    [theme=dark] .colab-df-convert:hover {\n",
              "      background-color: #434B5C;\n",
              "      box-shadow: 0px 1px 3px 1px rgba(0, 0, 0, 0.15);\n",
              "      filter: drop-shadow(0px 1px 2px rgba(0, 0, 0, 0.3));\n",
              "      fill: #FFFFFF;\n",
              "    }\n",
              "  </style>\n",
              "\n",
              "      <script>\n",
              "        const buttonEl =\n",
              "          document.querySelector('#df-7911f397-84eb-451c-9e2c-a8343b2af568 button.colab-df-convert');\n",
              "        buttonEl.style.display =\n",
              "          google.colab.kernel.accessAllowed ? 'block' : 'none';\n",
              "\n",
              "        async function convertToInteractive(key) {\n",
              "          const element = document.querySelector('#df-7911f397-84eb-451c-9e2c-a8343b2af568');\n",
              "          const dataTable =\n",
              "            await google.colab.kernel.invokeFunction('convertToInteractive',\n",
              "                                                     [key], {});\n",
              "          if (!dataTable) return;\n",
              "\n",
              "          const docLinkHtml = 'Like what you see? Visit the ' +\n",
              "            '<a target=\"_blank\" href=https://colab.research.google.com/notebooks/data_table.ipynb>data table notebook</a>'\n",
              "            + ' to learn more about interactive tables.';\n",
              "          element.innerHTML = '';\n",
              "          dataTable['output_type'] = 'display_data';\n",
              "          await google.colab.output.renderOutput(dataTable, element);\n",
              "          const docLink = document.createElement('div');\n",
              "          docLink.innerHTML = docLinkHtml;\n",
              "          element.appendChild(docLink);\n",
              "        }\n",
              "      </script>\n",
              "    </div>\n",
              "  </div>\n",
              "  "
            ],
            "text/plain": [
              "   user_id  track_id\n",
              "0       66         0\n",
              "1       66         1\n",
              "2       66         2\n",
              "3       66         3\n",
              "4       66         4"
            ]
          },
          "execution_count": 182,
          "metadata": {},
          "output_type": "execute_result"
        }
      ],
      "source": [
        "test_songs.head()"
      ]
    },
    {
      "cell_type": "code",
      "execution_count": 183,
      "metadata": {
        "id": "4fdnj9UdIl0S"
      },
      "outputs": [],
      "source": [
        "test_actual = datasets['val'][0]"
      ]
    },
    {
      "cell_type": "code",
      "execution_count": 184,
      "metadata": {
        "id": "e8eR5xAoIrn7"
      },
      "outputs": [],
      "source": [
        "test_actual['seen'] = datasets['val'][1]"
      ]
    },
    {
      "cell_type": "code",
      "execution_count": 185,
      "metadata": {
        "id": "rs8kFR0EI0j3"
      },
      "outputs": [],
      "source": [
        "test_actual = test_actual[test_actual['seen'] == 1]"
      ]
    },
    {
      "cell_type": "code",
      "execution_count": 186,
      "metadata": {
        "colab": {
          "base_uri": "https://localhost:8080/",
          "height": 423
        },
        "id": "q-j_q6owI1aB",
        "outputId": "ef076b56-a941-4f0a-d4c8-1e73baaacf1f"
      },
      "outputs": [
        {
          "data": {
            "text/html": [
              "\n",
              "  <div id=\"df-a757cbed-07da-4fe1-8fb8-cbf26cbba337\">\n",
              "    <div class=\"colab-df-container\">\n",
              "      <div>\n",
              "<style scoped>\n",
              "    .dataframe tbody tr th:only-of-type {\n",
              "        vertical-align: middle;\n",
              "    }\n",
              "\n",
              "    .dataframe tbody tr th {\n",
              "        vertical-align: top;\n",
              "    }\n",
              "\n",
              "    .dataframe thead th {\n",
              "        text-align: right;\n",
              "    }\n",
              "</style>\n",
              "<table border=\"1\" class=\"dataframe\">\n",
              "  <thead>\n",
              "    <tr style=\"text-align: right;\">\n",
              "      <th></th>\n",
              "      <th>user_id</th>\n",
              "      <th>movie_id</th>\n",
              "      <th>seen</th>\n",
              "    </tr>\n",
              "  </thead>\n",
              "  <tbody>\n",
              "    <tr>\n",
              "      <th>258013</th>\n",
              "      <td>256</td>\n",
              "      <td>10839</td>\n",
              "      <td>1.0</td>\n",
              "    </tr>\n",
              "    <tr>\n",
              "      <th>2975603</th>\n",
              "      <td>2970</td>\n",
              "      <td>3915</td>\n",
              "      <td>1.0</td>\n",
              "    </tr>\n",
              "    <tr>\n",
              "      <th>4338227</th>\n",
              "      <td>4331</td>\n",
              "      <td>5111</td>\n",
              "      <td>1.0</td>\n",
              "    </tr>\n",
              "    <tr>\n",
              "      <th>3511498</th>\n",
              "      <td>3506</td>\n",
              "      <td>9079</td>\n",
              "      <td>1.0</td>\n",
              "    </tr>\n",
              "    <tr>\n",
              "      <th>4067141</th>\n",
              "      <td>4060</td>\n",
              "      <td>11530</td>\n",
              "      <td>1.0</td>\n",
              "    </tr>\n",
              "    <tr>\n",
              "      <th>...</th>\n",
              "      <td>...</td>\n",
              "      <td>...</td>\n",
              "      <td>...</td>\n",
              "    </tr>\n",
              "    <tr>\n",
              "      <th>2086023</th>\n",
              "      <td>2083</td>\n",
              "      <td>2605</td>\n",
              "      <td>1.0</td>\n",
              "    </tr>\n",
              "    <tr>\n",
              "      <th>2085656</th>\n",
              "      <td>2083</td>\n",
              "      <td>3911</td>\n",
              "      <td>1.0</td>\n",
              "    </tr>\n",
              "    <tr>\n",
              "      <th>3121867</th>\n",
              "      <td>3110</td>\n",
              "      <td>1617</td>\n",
              "      <td>1.0</td>\n",
              "    </tr>\n",
              "    <tr>\n",
              "      <th>3800878</th>\n",
              "      <td>3797</td>\n",
              "      <td>3001</td>\n",
              "      <td>1.0</td>\n",
              "    </tr>\n",
              "    <tr>\n",
              "      <th>209831</th>\n",
              "      <td>211</td>\n",
              "      <td>10561</td>\n",
              "      <td>1.0</td>\n",
              "    </tr>\n",
              "  </tbody>\n",
              "</table>\n",
              "<p>92486 rows × 3 columns</p>\n",
              "</div>\n",
              "      <button class=\"colab-df-convert\" onclick=\"convertToInteractive('df-a757cbed-07da-4fe1-8fb8-cbf26cbba337')\"\n",
              "              title=\"Convert this dataframe to an interactive table.\"\n",
              "              style=\"display:none;\">\n",
              "        \n",
              "  <svg xmlns=\"http://www.w3.org/2000/svg\" height=\"24px\"viewBox=\"0 0 24 24\"\n",
              "       width=\"24px\">\n",
              "    <path d=\"M0 0h24v24H0V0z\" fill=\"none\"/>\n",
              "    <path d=\"M18.56 5.44l.94 2.06.94-2.06 2.06-.94-2.06-.94-.94-2.06-.94 2.06-2.06.94zm-11 1L8.5 8.5l.94-2.06 2.06-.94-2.06-.94L8.5 2.5l-.94 2.06-2.06.94zm10 10l.94 2.06.94-2.06 2.06-.94-2.06-.94-.94-2.06-.94 2.06-2.06.94z\"/><path d=\"M17.41 7.96l-1.37-1.37c-.4-.4-.92-.59-1.43-.59-.52 0-1.04.2-1.43.59L10.3 9.45l-7.72 7.72c-.78.78-.78 2.05 0 2.83L4 21.41c.39.39.9.59 1.41.59.51 0 1.02-.2 1.41-.59l7.78-7.78 2.81-2.81c.8-.78.8-2.07 0-2.86zM5.41 20L4 18.59l7.72-7.72 1.47 1.35L5.41 20z\"/>\n",
              "  </svg>\n",
              "      </button>\n",
              "      \n",
              "  <style>\n",
              "    .colab-df-container {\n",
              "      display:flex;\n",
              "      flex-wrap:wrap;\n",
              "      gap: 12px;\n",
              "    }\n",
              "\n",
              "    .colab-df-convert {\n",
              "      background-color: #E8F0FE;\n",
              "      border: none;\n",
              "      border-radius: 50%;\n",
              "      cursor: pointer;\n",
              "      display: none;\n",
              "      fill: #1967D2;\n",
              "      height: 32px;\n",
              "      padding: 0 0 0 0;\n",
              "      width: 32px;\n",
              "    }\n",
              "\n",
              "    .colab-df-convert:hover {\n",
              "      background-color: #E2EBFA;\n",
              "      box-shadow: 0px 1px 2px rgba(60, 64, 67, 0.3), 0px 1px 3px 1px rgba(60, 64, 67, 0.15);\n",
              "      fill: #174EA6;\n",
              "    }\n",
              "\n",
              "    [theme=dark] .colab-df-convert {\n",
              "      background-color: #3B4455;\n",
              "      fill: #D2E3FC;\n",
              "    }\n",
              "\n",
              "    [theme=dark] .colab-df-convert:hover {\n",
              "      background-color: #434B5C;\n",
              "      box-shadow: 0px 1px 3px 1px rgba(0, 0, 0, 0.15);\n",
              "      filter: drop-shadow(0px 1px 2px rgba(0, 0, 0, 0.3));\n",
              "      fill: #FFFFFF;\n",
              "    }\n",
              "  </style>\n",
              "\n",
              "      <script>\n",
              "        const buttonEl =\n",
              "          document.querySelector('#df-a757cbed-07da-4fe1-8fb8-cbf26cbba337 button.colab-df-convert');\n",
              "        buttonEl.style.display =\n",
              "          google.colab.kernel.accessAllowed ? 'block' : 'none';\n",
              "\n",
              "        async function convertToInteractive(key) {\n",
              "          const element = document.querySelector('#df-a757cbed-07da-4fe1-8fb8-cbf26cbba337');\n",
              "          const dataTable =\n",
              "            await google.colab.kernel.invokeFunction('convertToInteractive',\n",
              "                                                     [key], {});\n",
              "          if (!dataTable) return;\n",
              "\n",
              "          const docLinkHtml = 'Like what you see? Visit the ' +\n",
              "            '<a target=\"_blank\" href=https://colab.research.google.com/notebooks/data_table.ipynb>data table notebook</a>'\n",
              "            + ' to learn more about interactive tables.';\n",
              "          element.innerHTML = '';\n",
              "          dataTable['output_type'] = 'display_data';\n",
              "          await google.colab.output.renderOutput(dataTable, element);\n",
              "          const docLink = document.createElement('div');\n",
              "          docLink.innerHTML = docLinkHtml;\n",
              "          element.appendChild(docLink);\n",
              "        }\n",
              "      </script>\n",
              "    </div>\n",
              "  </div>\n",
              "  "
            ],
            "text/plain": [
              "         user_id  movie_id  seen\n",
              "258013       256     10839   1.0\n",
              "2975603     2970      3915   1.0\n",
              "4338227     4331      5111   1.0\n",
              "3511498     3506      9079   1.0\n",
              "4067141     4060     11530   1.0\n",
              "...          ...       ...   ...\n",
              "2086023     2083      2605   1.0\n",
              "2085656     2083      3911   1.0\n",
              "3121867     3110      1617   1.0\n",
              "3800878     3797      3001   1.0\n",
              "209831       211     10561   1.0\n",
              "\n",
              "[92486 rows x 3 columns]"
            ]
          },
          "execution_count": 186,
          "metadata": {},
          "output_type": "execute_result"
        }
      ],
      "source": [
        "test_actual"
      ]
    },
    {
      "cell_type": "code",
      "execution_count": 187,
      "metadata": {
        "colab": {
          "base_uri": "https://localhost:8080/",
          "height": 423
        },
        "id": "lb0bWHcdJ7ir",
        "outputId": "cc941989-4476-4ba7-f5d6-6e820402de58"
      },
      "outputs": [
        {
          "data": {
            "text/html": [
              "\n",
              "  <div id=\"df-66945af9-93c4-4d00-ab6a-a3f86a588300\">\n",
              "    <div class=\"colab-df-container\">\n",
              "      <div>\n",
              "<style scoped>\n",
              "    .dataframe tbody tr th:only-of-type {\n",
              "        vertical-align: middle;\n",
              "    }\n",
              "\n",
              "    .dataframe tbody tr th {\n",
              "        vertical-align: top;\n",
              "    }\n",
              "\n",
              "    .dataframe thead th {\n",
              "        text-align: right;\n",
              "    }\n",
              "</style>\n",
              "<table border=\"1\" class=\"dataframe\">\n",
              "  <thead>\n",
              "    <tr style=\"text-align: right;\">\n",
              "      <th></th>\n",
              "      <th>user_id</th>\n",
              "      <th>track_id</th>\n",
              "      <th>rating</th>\n",
              "    </tr>\n",
              "  </thead>\n",
              "  <tbody>\n",
              "    <tr>\n",
              "      <th>0</th>\n",
              "      <td>66</td>\n",
              "      <td>0</td>\n",
              "      <td>0</td>\n",
              "    </tr>\n",
              "    <tr>\n",
              "      <th>1</th>\n",
              "      <td>66</td>\n",
              "      <td>1</td>\n",
              "      <td>0</td>\n",
              "    </tr>\n",
              "    <tr>\n",
              "      <th>2</th>\n",
              "      <td>66</td>\n",
              "      <td>2</td>\n",
              "      <td>0</td>\n",
              "    </tr>\n",
              "    <tr>\n",
              "      <th>3</th>\n",
              "      <td>66</td>\n",
              "      <td>3</td>\n",
              "      <td>0</td>\n",
              "    </tr>\n",
              "    <tr>\n",
              "      <th>4</th>\n",
              "      <td>66</td>\n",
              "      <td>4</td>\n",
              "      <td>0</td>\n",
              "    </tr>\n",
              "    <tr>\n",
              "      <th>...</th>\n",
              "      <td>...</td>\n",
              "      <td>...</td>\n",
              "      <td>...</td>\n",
              "    </tr>\n",
              "    <tr>\n",
              "      <th>1315298</th>\n",
              "      <td>794</td>\n",
              "      <td>12062</td>\n",
              "      <td>0</td>\n",
              "    </tr>\n",
              "    <tr>\n",
              "      <th>1315299</th>\n",
              "      <td>794</td>\n",
              "      <td>12063</td>\n",
              "      <td>0</td>\n",
              "    </tr>\n",
              "    <tr>\n",
              "      <th>1315300</th>\n",
              "      <td>794</td>\n",
              "      <td>12064</td>\n",
              "      <td>0</td>\n",
              "    </tr>\n",
              "    <tr>\n",
              "      <th>1315301</th>\n",
              "      <td>794</td>\n",
              "      <td>12065</td>\n",
              "      <td>0</td>\n",
              "    </tr>\n",
              "    <tr>\n",
              "      <th>1315302</th>\n",
              "      <td>794</td>\n",
              "      <td>12066</td>\n",
              "      <td>0</td>\n",
              "    </tr>\n",
              "  </tbody>\n",
              "</table>\n",
              "<p>1300042 rows × 3 columns</p>\n",
              "</div>\n",
              "      <button class=\"colab-df-convert\" onclick=\"convertToInteractive('df-66945af9-93c4-4d00-ab6a-a3f86a588300')\"\n",
              "              title=\"Convert this dataframe to an interactive table.\"\n",
              "              style=\"display:none;\">\n",
              "        \n",
              "  <svg xmlns=\"http://www.w3.org/2000/svg\" height=\"24px\"viewBox=\"0 0 24 24\"\n",
              "       width=\"24px\">\n",
              "    <path d=\"M0 0h24v24H0V0z\" fill=\"none\"/>\n",
              "    <path d=\"M18.56 5.44l.94 2.06.94-2.06 2.06-.94-2.06-.94-.94-2.06-.94 2.06-2.06.94zm-11 1L8.5 8.5l.94-2.06 2.06-.94-2.06-.94L8.5 2.5l-.94 2.06-2.06.94zm10 10l.94 2.06.94-2.06 2.06-.94-2.06-.94-.94-2.06-.94 2.06-2.06.94z\"/><path d=\"M17.41 7.96l-1.37-1.37c-.4-.4-.92-.59-1.43-.59-.52 0-1.04.2-1.43.59L10.3 9.45l-7.72 7.72c-.78.78-.78 2.05 0 2.83L4 21.41c.39.39.9.59 1.41.59.51 0 1.02-.2 1.41-.59l7.78-7.78 2.81-2.81c.8-.78.8-2.07 0-2.86zM5.41 20L4 18.59l7.72-7.72 1.47 1.35L5.41 20z\"/>\n",
              "  </svg>\n",
              "      </button>\n",
              "      \n",
              "  <style>\n",
              "    .colab-df-container {\n",
              "      display:flex;\n",
              "      flex-wrap:wrap;\n",
              "      gap: 12px;\n",
              "    }\n",
              "\n",
              "    .colab-df-convert {\n",
              "      background-color: #E8F0FE;\n",
              "      border: none;\n",
              "      border-radius: 50%;\n",
              "      cursor: pointer;\n",
              "      display: none;\n",
              "      fill: #1967D2;\n",
              "      height: 32px;\n",
              "      padding: 0 0 0 0;\n",
              "      width: 32px;\n",
              "    }\n",
              "\n",
              "    .colab-df-convert:hover {\n",
              "      background-color: #E2EBFA;\n",
              "      box-shadow: 0px 1px 2px rgba(60, 64, 67, 0.3), 0px 1px 3px 1px rgba(60, 64, 67, 0.15);\n",
              "      fill: #174EA6;\n",
              "    }\n",
              "\n",
              "    [theme=dark] .colab-df-convert {\n",
              "      background-color: #3B4455;\n",
              "      fill: #D2E3FC;\n",
              "    }\n",
              "\n",
              "    [theme=dark] .colab-df-convert:hover {\n",
              "      background-color: #434B5C;\n",
              "      box-shadow: 0px 1px 3px 1px rgba(0, 0, 0, 0.15);\n",
              "      filter: drop-shadow(0px 1px 2px rgba(0, 0, 0, 0.3));\n",
              "      fill: #FFFFFF;\n",
              "    }\n",
              "  </style>\n",
              "\n",
              "      <script>\n",
              "        const buttonEl =\n",
              "          document.querySelector('#df-66945af9-93c4-4d00-ab6a-a3f86a588300 button.colab-df-convert');\n",
              "        buttonEl.style.display =\n",
              "          google.colab.kernel.accessAllowed ? 'block' : 'none';\n",
              "\n",
              "        async function convertToInteractive(key) {\n",
              "          const element = document.querySelector('#df-66945af9-93c4-4d00-ab6a-a3f86a588300');\n",
              "          const dataTable =\n",
              "            await google.colab.kernel.invokeFunction('convertToInteractive',\n",
              "                                                     [key], {});\n",
              "          if (!dataTable) return;\n",
              "\n",
              "          const docLinkHtml = 'Like what you see? Visit the ' +\n",
              "            '<a target=\"_blank\" href=https://colab.research.google.com/notebooks/data_table.ipynb>data table notebook</a>'\n",
              "            + ' to learn more about interactive tables.';\n",
              "          element.innerHTML = '';\n",
              "          dataTable['output_type'] = 'display_data';\n",
              "          await google.colab.output.renderOutput(dataTable, element);\n",
              "          const docLink = document.createElement('div');\n",
              "          docLink.innerHTML = docLinkHtml;\n",
              "          element.appendChild(docLink);\n",
              "        }\n",
              "      </script>\n",
              "    </div>\n",
              "  </div>\n",
              "  "
            ],
            "text/plain": [
              "         user_id  track_id  rating\n",
              "0             66         0       0\n",
              "1             66         1       0\n",
              "2             66         2       0\n",
              "3             66         3       0\n",
              "4             66         4       0\n",
              "...          ...       ...     ...\n",
              "1315298      794     12062       0\n",
              "1315299      794     12063       0\n",
              "1315300      794     12064       0\n",
              "1315301      794     12065       0\n",
              "1315302      794     12066       0\n",
              "\n",
              "[1300042 rows x 3 columns]"
            ]
          },
          "execution_count": 187,
          "metadata": {},
          "output_type": "execute_result"
        }
      ],
      "source": [
        "test_songs['rating'] = 0\n",
        "test_songs"
      ]
    },
    {
      "cell_type": "code",
      "execution_count": 188,
      "metadata": {
        "colab": {
          "base_uri": "https://localhost:8080/"
        },
        "id": "plT1xRsLI8NW",
        "outputId": "a58d79f1-821a-418a-b0da-8b7513cc6e7a"
      },
      "outputs": [
        {
          "name": "stdout",
          "output_type": "stream",
          "text": [
            "Embeddings: 109 users, 12067 tracks\n",
            "Dataset shape: (1300042, 2)\n",
            "Target shape: (1300042,)\n"
          ]
        }
      ],
      "source": [
        "(n, m), (X, y), (user_to_index, track_to_index) = create_dataset(test_songs)\n",
        "print(f'Embeddings: {n} users, {m} tracks')\n",
        "print(f'Dataset shape: {X.shape}')\n",
        "print(f'Target shape: {y.shape}')"
      ]
    },
    {
      "cell_type": "code",
      "execution_count": 189,
      "metadata": {
        "id": "TcD3gJ3uJn7J"
      },
      "outputs": [],
      "source": [
        "datasets_val = {'val': (X, y)}\n",
        "groud_truth, predictions, groud_iteractions = [], [], []\n",
        "\n",
        "with torch.no_grad():\n",
        "    for batch in batches(*datasets_val['val'], shuffle=False, bs=bs):\n",
        "        x_batch, y_batch = [b.to(device) for b in batch]\n",
        "        outputs = net(x_batch[:, 0], x_batch[:, 1], minmax)\n",
        "        groud_truth.extend(y_batch.tolist())\n",
        "        groud_iteractions.extend(x_batch.tolist())\n",
        "        predictions.extend(outputs.tolist())\n",
        "\n",
        "groud_truth = np.asarray(groud_truth).ravel()\n",
        "predictions = np.asarray(predictions).ravel()"
      ]
    },
    {
      "cell_type": "code",
      "execution_count": 190,
      "metadata": {
        "id": "plppzLjqL5uM"
      },
      "outputs": [],
      "source": [
        "result_test = pd.DataFrame(np.array(groud_iteractions), columns=[\"users\", \"items\"])\n",
        "result_test['predict'] = predictions\n",
        "result_test = result.sort_values('predict', ascending=False)"
      ]
    },
    {
      "cell_type": "code",
      "execution_count": 191,
      "metadata": {
        "colab": {
          "base_uri": "https://localhost:8080/",
          "height": 206
        },
        "id": "fU9HwhVaNXTx",
        "outputId": "60546cc0-496a-4f91-e9c7-f62c01043238"
      },
      "outputs": [
        {
          "data": {
            "text/html": [
              "\n",
              "  <div id=\"df-06c09b7f-a466-4829-bba5-183298c559ca\">\n",
              "    <div class=\"colab-df-container\">\n",
              "      <div>\n",
              "<style scoped>\n",
              "    .dataframe tbody tr th:only-of-type {\n",
              "        vertical-align: middle;\n",
              "    }\n",
              "\n",
              "    .dataframe tbody tr th {\n",
              "        vertical-align: top;\n",
              "    }\n",
              "\n",
              "    .dataframe thead th {\n",
              "        text-align: right;\n",
              "    }\n",
              "</style>\n",
              "<table border=\"1\" class=\"dataframe\">\n",
              "  <thead>\n",
              "    <tr style=\"text-align: right;\">\n",
              "      <th></th>\n",
              "      <th>users</th>\n",
              "      <th>items</th>\n",
              "      <th>actual</th>\n",
              "      <th>predict</th>\n",
              "      <th>top</th>\n",
              "    </tr>\n",
              "  </thead>\n",
              "  <tbody>\n",
              "    <tr>\n",
              "      <th>432808</th>\n",
              "      <td>523</td>\n",
              "      <td>8827</td>\n",
              "      <td>0.0</td>\n",
              "      <td>1.212142</td>\n",
              "      <td>0</td>\n",
              "    </tr>\n",
              "    <tr>\n",
              "      <th>344922</th>\n",
              "      <td>4862</td>\n",
              "      <td>5845</td>\n",
              "      <td>1.0</td>\n",
              "      <td>1.209810</td>\n",
              "      <td>0</td>\n",
              "    </tr>\n",
              "    <tr>\n",
              "      <th>2106</th>\n",
              "      <td>3042</td>\n",
              "      <td>10331</td>\n",
              "      <td>1.0</td>\n",
              "      <td>1.205391</td>\n",
              "      <td>0</td>\n",
              "    </tr>\n",
              "    <tr>\n",
              "      <th>91858</th>\n",
              "      <td>5300</td>\n",
              "      <td>263</td>\n",
              "      <td>1.0</td>\n",
              "      <td>1.199216</td>\n",
              "      <td>0</td>\n",
              "    </tr>\n",
              "    <tr>\n",
              "      <th>127651</th>\n",
              "      <td>2558</td>\n",
              "      <td>8110</td>\n",
              "      <td>1.0</td>\n",
              "      <td>1.195905</td>\n",
              "      <td>0</td>\n",
              "    </tr>\n",
              "  </tbody>\n",
              "</table>\n",
              "</div>\n",
              "      <button class=\"colab-df-convert\" onclick=\"convertToInteractive('df-06c09b7f-a466-4829-bba5-183298c559ca')\"\n",
              "              title=\"Convert this dataframe to an interactive table.\"\n",
              "              style=\"display:none;\">\n",
              "        \n",
              "  <svg xmlns=\"http://www.w3.org/2000/svg\" height=\"24px\"viewBox=\"0 0 24 24\"\n",
              "       width=\"24px\">\n",
              "    <path d=\"M0 0h24v24H0V0z\" fill=\"none\"/>\n",
              "    <path d=\"M18.56 5.44l.94 2.06.94-2.06 2.06-.94-2.06-.94-.94-2.06-.94 2.06-2.06.94zm-11 1L8.5 8.5l.94-2.06 2.06-.94-2.06-.94L8.5 2.5l-.94 2.06-2.06.94zm10 10l.94 2.06.94-2.06 2.06-.94-2.06-.94-.94-2.06-.94 2.06-2.06.94z\"/><path d=\"M17.41 7.96l-1.37-1.37c-.4-.4-.92-.59-1.43-.59-.52 0-1.04.2-1.43.59L10.3 9.45l-7.72 7.72c-.78.78-.78 2.05 0 2.83L4 21.41c.39.39.9.59 1.41.59.51 0 1.02-.2 1.41-.59l7.78-7.78 2.81-2.81c.8-.78.8-2.07 0-2.86zM5.41 20L4 18.59l7.72-7.72 1.47 1.35L5.41 20z\"/>\n",
              "  </svg>\n",
              "      </button>\n",
              "      \n",
              "  <style>\n",
              "    .colab-df-container {\n",
              "      display:flex;\n",
              "      flex-wrap:wrap;\n",
              "      gap: 12px;\n",
              "    }\n",
              "\n",
              "    .colab-df-convert {\n",
              "      background-color: #E8F0FE;\n",
              "      border: none;\n",
              "      border-radius: 50%;\n",
              "      cursor: pointer;\n",
              "      display: none;\n",
              "      fill: #1967D2;\n",
              "      height: 32px;\n",
              "      padding: 0 0 0 0;\n",
              "      width: 32px;\n",
              "    }\n",
              "\n",
              "    .colab-df-convert:hover {\n",
              "      background-color: #E2EBFA;\n",
              "      box-shadow: 0px 1px 2px rgba(60, 64, 67, 0.3), 0px 1px 3px 1px rgba(60, 64, 67, 0.15);\n",
              "      fill: #174EA6;\n",
              "    }\n",
              "\n",
              "    [theme=dark] .colab-df-convert {\n",
              "      background-color: #3B4455;\n",
              "      fill: #D2E3FC;\n",
              "    }\n",
              "\n",
              "    [theme=dark] .colab-df-convert:hover {\n",
              "      background-color: #434B5C;\n",
              "      box-shadow: 0px 1px 3px 1px rgba(0, 0, 0, 0.15);\n",
              "      filter: drop-shadow(0px 1px 2px rgba(0, 0, 0, 0.3));\n",
              "      fill: #FFFFFF;\n",
              "    }\n",
              "  </style>\n",
              "\n",
              "      <script>\n",
              "        const buttonEl =\n",
              "          document.querySelector('#df-06c09b7f-a466-4829-bba5-183298c559ca button.colab-df-convert');\n",
              "        buttonEl.style.display =\n",
              "          google.colab.kernel.accessAllowed ? 'block' : 'none';\n",
              "\n",
              "        async function convertToInteractive(key) {\n",
              "          const element = document.querySelector('#df-06c09b7f-a466-4829-bba5-183298c559ca');\n",
              "          const dataTable =\n",
              "            await google.colab.kernel.invokeFunction('convertToInteractive',\n",
              "                                                     [key], {});\n",
              "          if (!dataTable) return;\n",
              "\n",
              "          const docLinkHtml = 'Like what you see? Visit the ' +\n",
              "            '<a target=\"_blank\" href=https://colab.research.google.com/notebooks/data_table.ipynb>data table notebook</a>'\n",
              "            + ' to learn more about interactive tables.';\n",
              "          element.innerHTML = '';\n",
              "          dataTable['output_type'] = 'display_data';\n",
              "          await google.colab.output.renderOutput(dataTable, element);\n",
              "          const docLink = document.createElement('div');\n",
              "          docLink.innerHTML = docLinkHtml;\n",
              "          element.appendChild(docLink);\n",
              "        }\n",
              "      </script>\n",
              "    </div>\n",
              "  </div>\n",
              "  "
            ],
            "text/plain": [
              "        users  items  actual   predict  top\n",
              "432808    523   8827     0.0  1.212142    0\n",
              "344922   4862   5845     1.0  1.209810    0\n",
              "2106     3042  10331     1.0  1.205391    0\n",
              "91858    5300    263     1.0  1.199216    0\n",
              "127651   2558   8110     1.0  1.195905    0"
            ]
          },
          "execution_count": 191,
          "metadata": {},
          "output_type": "execute_result"
        }
      ],
      "source": [
        "result_test.head()"
      ]
    },
    {
      "cell_type": "code",
      "execution_count": 192,
      "metadata": {
        "id": "NeMlNGDfL-WH"
      },
      "outputs": [],
      "source": [
        "result_test = result_test[result_test['top'] < 10]"
      ]
    },
    {
      "cell_type": "code",
      "execution_count": 193,
      "metadata": {
        "id": "aHrQ8_KHL_fw"
      },
      "outputs": [],
      "source": [
        "test_actual.columns = ['users', 'items', 'actual']\n",
        "result_test = result_test[['users', 'items', 'predict']].merge(test_actual, on=['users', 'items'],how='left')"
      ]
    },
    {
      "cell_type": "code",
      "execution_count": 194,
      "metadata": {
        "id": "zgVCmJGtMi5n"
      },
      "outputs": [],
      "source": [
        "result_test['actual'] = result_test['actual'].fillna(0)"
      ]
    },
    {
      "cell_type": "code",
      "execution_count": 196,
      "metadata": {
        "colab": {
          "base_uri": "https://localhost:8080/"
        },
        "id": "v4KoSnPAMp3f",
        "outputId": "816d5b0a-2521-49cd-e963-a26e591c85f0"
      },
      "outputs": [
        {
          "data": {
            "text/plain": [
              "0.5696261"
            ]
          },
          "execution_count": 196,
          "metadata": {},
          "output_type": "execute_result"
        }
      ],
      "source": [
        "result_test['actual'].mean()"
      ]
    }
  ],
  "metadata": {
    "accelerator": "GPU",
    "colab": {
      "gpuType": "T4",
      "provenance": []
    },
    "kernelspec": {
      "display_name": "Python 3",
      "name": "python3"
    },
    "language_info": {
      "codemirror_mode": {
        "name": "ipython",
        "version": 3
      },
      "file_extension": ".py",
      "mimetype": "text/x-python",
      "name": "python",
      "nbconvert_exporter": "python",
      "pygments_lexer": "ipython3",
      "version": "3.11.3"
    }
  },
  "nbformat": 4,
  "nbformat_minor": 0
}
